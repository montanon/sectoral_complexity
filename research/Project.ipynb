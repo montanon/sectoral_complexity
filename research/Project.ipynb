{
 "cells": [
  {
   "cell_type": "code",
   "execution_count": 1,
   "metadata": {
    "deletable": true,
    "editable": true
   },
   "outputs": [],
   "source": [
    "from mitoolspro.project import Project\n",
    "from pathlib import Path"
   ]
  },
  {
   "cell_type": "markdown",
   "metadata": {
    "deletable": true,
    "editable": true
   },
   "source": [
    "# Project: Research"
   ]
  },
  {
   "cell_type": "code",
   "execution_count": null,
   "metadata": {
    "deletable": true,
    "editable": true
   },
   "outputs": [],
   "source": [
    "pr = Project.load(auto_load=True)\n",
    "pr.project_tree()"
   ]
  },
  {
   "cell_type": "markdown",
   "metadata": {
    "deletable": true,
    "editable": true
   },
   "source": [
    "## Create Version Subfolder"
   ]
  },
  {
   "cell_type": "code",
   "execution_count": 3,
   "metadata": {
    "deletable": true,
    "editable": true
   },
   "outputs": [],
   "source": [
    "# pr.create_version_subfolder(subfolder_name: str)\n",
    "pr.create_version_subfolder(\"data\")\n",
    "pr.create_version_subfolder(\"regressions\")\n",
    "pr.create_version_subfolder(\"notebooks\")\n",
    "pr.create_version_subfolder(\"figures\")\n",
    "pr.create_version_subfolder(\"results\")"
   ]
  },
  {
   "cell_type": "markdown",
   "metadata": {
    "deletable": true,
    "editable": true
   },
   "source": [
    "## Add Paths and Vars to your Project"
   ]
  },
  {
   "cell_type": "markdown",
   "metadata": {
    "deletable": true,
    "editable": true
   },
   "source": [
    "### Add Paths"
   ]
  },
  {
   "cell_type": "code",
   "execution_count": null,
   "metadata": {
    "deletable": true,
    "editable": true
   },
   "outputs": [],
   "source": [
    "# pr.add_path(key: str, path: PathLike, update=True)\n",
    "pr.add_path('raw_db_root', Path('/Volumes/Crucial X6/OEC_Data'), update=True)\n",
    "pr.add_path('raw_db_path', Path('/Volumes/Crucial X6/OEC_Data/oec_data.db'), update=True)\n",
    "pr.add_path(\"oecd_folder\", pr.get_path(\"raw_db_root\") / \"OECD\", update=True)\n",
    "pr.add_path(\"footprint_folder\", pr.get_path(\"raw_db_root\") / 'Ecological Footprint', update=True)\n",
    "pr.add_path(\"wb_folder\", pr.get_path(\"raw_db_root\") / 'World Bank', update=True)\n",
    "pr.add_path(\"extra_wb_folder\", pr.get_path(\"raw_db_root\") / 'Extra_World_Bank', update=True)\n",
    "pr.add_path(\"internal_credit\", pr.get_path(\"raw_db_root\") / 'Internal_Credit', update=True)\n",
    "pr.add_path(\"environmental_patents\", pr.get_path(\"raw_db_root\") / 'Environmental_Patents', update=True)\n",
    "pr.add_path(\"policy_stringency\", pr.get_path(\"raw_db_root\") / 'Environmental_Policy_stringency', update=True)\n",
    "pr.add_path(\"globalisation\", pr.get_path(\"raw_db_root\") / 'Globalisation_Index', update=True)\n",
    "pr.add_path(\"inequality\", pr.get_path(\"raw_db_root\") / 'Income_Inequality_Index', update=True)\n",
    "pr.add_path('hs_codes', pr.get_path('data') / 'hs_codes.parquet', update=True)\n",
    "pr.add_path('database', pr.get_path(\"data\") / 'data.db', update=True)\n",
    "pr.add_path('data_file', pr.get_path(\"data\") / 'data.parquet', update=True)\n",
    "pr.add_path('sector_mapping', pr.get_path(\"data\") / 'Sector_Mapping.xlsx', update=True)\n",
    "pr.add_path('relatedness', pr.get_path(\"data\") / 'relatedness.parquet', update=True)\n",
    "pr.add_path('economic_complexity', pr.get_path(\"data\") / 'economic_complexity.parquet', update=True)\n",
    "pr.add_path('product_complexity', pr.get_path(\"data\") / 'product_complexity.parquet', update=True)\n",
    "pr.add_path('complexity_data', pr.get_path(\"data\") / 'complexity_data.parquet', update=True)\n",
    "pr.add_path('indicators_data', pr.get_path(\"data\") / 'indicators_data.parquet', update=True)\n",
    "pr.add_path('products_data', pr.get_path(\"data\") / 'products_data.parquet', update=True)\n",
    "pr.add_path('raw_rca', pr.get_path(\"data\") / 'raw_rca.parquet', update=True)\n",
    "pr.add_path('rca', pr.get_path(\"data\") / 'rca.parquet', update=True)\n",
    "pr.add_path('final_data', pr.get_path(\"data\") / 'final_data.parquet', update=True)\n",
    "pr.add_path('string_map', pr.get_path(\"data\") / 'string_map.json', update=True)"
   ]
  },
  {
   "cell_type": "markdown",
   "metadata": {
    "deletable": true,
    "editable": true
   },
   "source": [
    "### Add Vars"
   ]
  },
  {
   "cell_type": "code",
   "execution_count": null,
   "metadata": {
    "deletable": true,
    "editable": true
   },
   "outputs": [],
   "source": [
    "# pr.add_var(key: str, value: Any, update=True)\n",
    "pr.add_var('years', list(range(1995, 2021)), update=True)\n",
    "pr.add_var('time_id', '199520', update=True)\n",
    "pr.add_var('data_id', 'OECHS_199520', update=True)"
   ]
  },
  {
   "cell_type": "code",
   "execution_count": null,
   "metadata": {
    "deletable": true,
    "editable": true
   },
   "outputs": [],
   "source": [
    "countries = ['Albania',\n",
    " 'Algeria',\n",
    " 'Angola',\n",
    " 'Argentina',\n",
    " 'Armenia',\n",
    " 'Australia',\n",
    " 'Austria',\n",
    " 'Azerbaijan',\n",
    " 'Bahrain',\n",
    " 'Bangladesh',\n",
    " 'Belarus',\n",
    " 'Belgium',\n",
    " 'Benin',\n",
    " 'Bolivia',\n",
    " 'Bosnia and Herzegovina',\n",
    " 'Botswana',\n",
    " 'Brazil',\n",
    " 'Bulgaria',\n",
    " 'Cambodia',\n",
    " 'Cameroon',\n",
    " 'Canada',\n",
    " 'Chile',\n",
    " 'China',\n",
    " 'Colombia',\n",
    " 'Congo Republic',\n",
    " 'Costa Rica',\n",
    " \"Cote d'Ivoire\",\n",
    " 'Croatia',\n",
    " 'Cyprus',\n",
    " 'Czechia',\n",
    " 'Denmark',\n",
    " 'Dominican Republic',\n",
    " 'Ecuador',\n",
    " 'Egypt',\n",
    " 'El Salvador',\n",
    " 'Estonia',\n",
    " 'Eswatini',\n",
    " 'Ethiopia',\n",
    " 'Finland',\n",
    " 'France',\n",
    " 'Gabon',\n",
    " 'Georgia',\n",
    " 'Germany',\n",
    " 'Ghana',\n",
    " 'Greece',\n",
    " 'Guatemala',\n",
    " 'Haiti',\n",
    " 'Honduras',\n",
    " 'Hong Kong',\n",
    " 'Hungary',\n",
    " 'India',\n",
    " 'Indonesia',\n",
    " 'Iran',\n",
    " 'Iraq',\n",
    " 'Ireland',\n",
    " 'Israel',\n",
    " 'Italy',\n",
    " 'Jamaica',\n",
    " 'Japan',\n",
    " 'Jordan',\n",
    " 'Kazakhstan',\n",
    " 'Kenya',\n",
    " 'Kuwait',\n",
    " 'Kyrgyz Republic',\n",
    " 'Latvia',\n",
    " 'Lebanon',\n",
    " 'Libya',\n",
    " 'Lithuania',\n",
    " 'Madagascar',\n",
    " 'Malaysia',\n",
    " 'Mexico',\n",
    " 'Moldova',\n",
    " 'Mongolia',\n",
    " 'Morocco',\n",
    " 'Mozambique',\n",
    " 'Myanmar',\n",
    " 'Namibia',\n",
    " 'Nepal',\n",
    " 'Netherlands',\n",
    " 'New Zealand',\n",
    " 'Nicaragua',\n",
    " 'Niger',\n",
    " 'Nigeria',\n",
    " 'North Macedonia',\n",
    " 'Norway',\n",
    " 'Oman',\n",
    " 'Pakistan',\n",
    " 'Panama',\n",
    " 'Paraguay',\n",
    " 'Peru',\n",
    " 'Philippines',\n",
    " 'Poland',\n",
    " 'Portugal',\n",
    " 'Qatar',\n",
    " 'Romania',\n",
    " 'Russia',\n",
    " 'Rwanda',\n",
    " 'Saudi Arabia',\n",
    " 'Senegal',\n",
    " 'Singapore',\n",
    " 'Slovakia',\n",
    " 'Slovenia',\n",
    " 'South Africa',\n",
    " 'South Korea',\n",
    " 'Spain',\n",
    " 'Sri Lanka',\n",
    " 'Sudan',\n",
    " 'Sweden',\n",
    " 'Switzerland',\n",
    " 'Syria',\n",
    " 'Tajikistan',\n",
    " 'Tanzania',\n",
    " 'Thailand',\n",
    " 'Togo',\n",
    " 'Trinidad and Tobago',\n",
    " 'Tunisia',\n",
    " 'Türkiye',\n",
    " 'Uganda',\n",
    " 'Ukraine',\n",
    " 'United Arab Emirates',\n",
    " 'United Kingdom',\n",
    " 'United States',\n",
    " 'Uruguay',\n",
    " 'Uzbekistan',\n",
    " 'Vietnam',\n",
    " 'Zambia',\n",
    " 'Zimbabwe']\n",
    "pr.add_var('countries', countries, update=True)"
   ]
  },
  {
   "cell_type": "markdown",
   "metadata": {
    "deletable": true,
    "editable": true
   },
   "source": [
    "***"
   ]
  }
 ],
 "metadata": {
  "kernelspec": {
   "display_name": ".venv",
   "language": "python",
   "name": "python3"
  },
  "language_info": {
   "codemirror_mode": {
    "name": "ipython",
    "version": 3
   },
   "file_extension": ".py",
   "mimetype": "text/x-python",
   "name": "python",
   "nbconvert_exporter": "python",
   "pygments_lexer": "ipython3",
   "version": "3.12.7"
  }
 },
 "nbformat": 4,
 "nbformat_minor": 0
}
