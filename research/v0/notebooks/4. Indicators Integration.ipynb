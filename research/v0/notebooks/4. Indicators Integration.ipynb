{
 "cells": [
  {
   "cell_type": "code",
   "execution_count": 1,
   "metadata": {},
   "outputs": [],
   "source": [
    "import os\n",
    "os.environ[\"DYLD_FALLBACK_LIBRARY_PATH\"] = \"/opt/homebrew/lib:/opt/homebrew/opt/cairo/lib\" # :/\n",
    "import mitoolspro as mtp\n",
    "import pandas as pd\n",
    "from itertools import product\n",
    "from mitoolspro.project import Project\n",
    "from mitoolspro import economic_complexity as ec"
   ]
  },
  {
   "cell_type": "code",
   "execution_count": null,
   "metadata": {},
   "outputs": [],
   "source": [
    "pr = Project.load(auto_load=True)"
   ]
  },
  {
   "cell_type": "code",
   "execution_count": 3,
   "metadata": {},
   "outputs": [],
   "source": [
    "show = True"
   ]
  },
  {
   "cell_type": "markdown",
   "metadata": {},
   "source": [
    "# Load Data"
   ]
  },
  {
   "cell_type": "code",
   "execution_count": 4,
   "metadata": {},
   "outputs": [],
   "source": [
    "db = mtp.databases.MainConnection(pr.get_path('database'))"
   ]
  },
  {
   "cell_type": "markdown",
   "metadata": {},
   "source": [
    "#### Indicators Data"
   ]
  },
  {
   "cell_type": "code",
   "execution_count": 5,
   "metadata": {},
   "outputs": [],
   "source": [
    "indicators_tablename = 'oecd_indicators'\n",
    "footprint_tablename = 'ecological_footprint'\n",
    "classification_tablename = 'income_classification'\n",
    "wbindicators_tablename = 'wb_indicators'\n",
    "world_bank_tablename = 'extra_world_bank'\n",
    "internal_credit_tablename = 'internal_credit'\n",
    "environmental_patents_tablename = 'environmental_patents'\n",
    "envrionmental_policy_tablename = 'environmental_policy_stringency'\n",
    "globalisation_index_tablename = 'globalisation_index'"
   ]
  },
  {
   "cell_type": "code",
   "execution_count": 6,
   "metadata": {},
   "outputs": [],
   "source": [
    "oecd = pd.read_sql(f'SELECT * FROM {indicators_tablename}', db).set_index(['Year', 'Country'])\n",
    "footprint = pd.read_sql(f'SELECT * FROM {footprint_tablename}', db).set_index(['Year', 'Country'])\n",
    "classification = pd.read_sql(f'SELECT * FROM {classification_tablename}', db).set_index(['Year', 'Country'])\n",
    "wbindicators = pd.read_sql(f'SELECT * FROM {wbindicators_tablename}', db).set_index(['Year', 'Country'])\n",
    "world_bank = pd.read_sql(f'SELECT * FROM {world_bank_tablename}', db).set_index(['Year', 'Country'])\n",
    "internal_credit = pd.read_sql(f'SELECT * FROM {internal_credit_tablename}', db).set_index(['Year', 'Country'])\n",
    "environmental_patents = pd.read_sql(f'SELECT * FROM {environmental_patents_tablename}', db).set_index(['Year', 'Country'])\n",
    "environmental_policy = pd.read_sql(f'SELECT * FROM {envrionmental_policy_tablename}', db).set_index(['Year', 'Country'])\n",
    "globalisation_index = pd.read_sql(f'SELECT * FROM {globalisation_index_tablename}', db).set_index(['Year', 'Country'])"
   ]
  },
  {
   "cell_type": "markdown",
   "metadata": {},
   "source": [
    "#### Handle Repeated World Bank Indexes"
   ]
  },
  {
   "cell_type": "code",
   "execution_count": null,
   "metadata": {},
   "outputs": [],
   "source": [
    "wbindicators"
   ]
  },
  {
   "cell_type": "code",
   "execution_count": 8,
   "metadata": {},
   "outputs": [],
   "source": [
    "world_bank_columns = wbindicators.columns\n",
    "world_bank_columns = world_bank_columns.intersection(world_bank.columns)\n",
    "wbindicators = wbindicators[[c for c in wbindicators.columns if c not in world_bank_columns]]"
   ]
  },
  {
   "cell_type": "markdown",
   "metadata": {},
   "source": [
    "#### All Data"
   ]
  },
  {
   "cell_type": "code",
   "execution_count": 9,
   "metadata": {},
   "outputs": [],
   "source": [
    "all_data_file = pr.get_path('complexity_data')"
   ]
  },
  {
   "cell_type": "code",
   "execution_count": 10,
   "metadata": {},
   "outputs": [],
   "source": [
    "data = pd.read_parquet(all_data_file).reset_index()"
   ]
  },
  {
   "cell_type": "code",
   "execution_count": 11,
   "metadata": {},
   "outputs": [],
   "source": [
    "data['SCI'] = data['ScSCI']"
   ]
  },
  {
   "cell_type": "code",
   "execution_count": null,
   "metadata": {},
   "outputs": [],
   "source": [
    "data"
   ]
  },
  {
   "cell_type": "code",
   "execution_count": null,
   "metadata": {},
   "outputs": [],
   "source": [
    "print('There are ', data['Sector'].nunique(), 'considered sectors:')\n",
    "print('='*20)\n",
    "mtp.utils.functions.iprint(data['Sector'].sort_values().unique())"
   ]
  },
  {
   "cell_type": "markdown",
   "metadata": {},
   "source": [
    "# Merge Indicators"
   ]
  },
  {
   "cell_type": "code",
   "execution_count": 14,
   "metadata": {},
   "outputs": [],
   "source": [
    "all_countries = list(data['Country'].unique())\n",
    "all_years = list(data['Year'].unique())\n",
    "all_indexes = pd.MultiIndex.from_tuples([combination for combination in product(all_years, all_countries)])"
   ]
  },
  {
   "cell_type": "code",
   "execution_count": 15,
   "metadata": {},
   "outputs": [],
   "source": [
    "classification = classification.loc[(classification.index.get_level_values('Country').isin(all_countries)) & (classification.index.get_level_values('Year').isin(all_years))]"
   ]
  },
  {
   "cell_type": "code",
   "execution_count": 16,
   "metadata": {},
   "outputs": [],
   "source": [
    "indicators = [\n",
    "    oecd,\n",
    "    footprint,\n",
    "    wbindicators,\n",
    "    classification,\n",
    "    world_bank,\n",
    "    internal_credit,\n",
    "    environmental_patents,\n",
    "    environmental_policy,\n",
    "    globalisation_index,\n",
    "]\n",
    "indicators = [i.loc[(i.index.get_level_values('Country').isin(all_countries)) & (i.index.get_level_values('Year').isin(all_years))] for i in indicators]"
   ]
  },
  {
   "cell_type": "code",
   "execution_count": 17,
   "metadata": {},
   "outputs": [],
   "source": [
    "def find_df_with_duplicated_columns(dfs, columns):\n",
    "    result = {column: [] for column in columns}\n",
    "    for column in columns:\n",
    "        for i, df in enumerate(dfs):\n",
    "            if column in df.columns:\n",
    "                result[column].append(f'DataFrame {i+1}')\n",
    "    return result"
   ]
  },
  {
   "cell_type": "code",
   "execution_count": null,
   "metadata": {},
   "outputs": [],
   "source": [
    "all_columns = pd.Index([col for df in indicators for col in df.columns])\n",
    "duplicated_columns = all_columns[all_columns.duplicated(keep=False)].unique()\n",
    "df_with_duplicates = find_df_with_duplicated_columns(indicators, duplicated_columns)\n",
    "if df_with_duplicates:\n",
    "    for column, dfs in df_with_duplicates.items():\n",
    "        print(f\"Column '{column}' is duplicated in: {', '.join(dfs)}\")\n",
    "else:\n",
    "    print(\"No duplicated columns across the DataFrames.\")"
   ]
  },
  {
   "cell_type": "code",
   "execution_count": 19,
   "metadata": {},
   "outputs": [],
   "source": [
    "indicators_df = pd.concat(indicators, axis=1).sort_index()"
   ]
  },
  {
   "cell_type": "code",
   "execution_count": null,
   "metadata": {},
   "outputs": [],
   "source": [
    "indicators_df['Income Group'].to_frame()[indicators_df['Income Group'].isna()]"
   ]
  },
  {
   "cell_type": "markdown",
   "metadata": {},
   "source": [
    "# Continent and Income Group Classification"
   ]
  },
  {
   "cell_type": "markdown",
   "metadata": {},
   "source": [
    "#### Continent Classification"
   ]
  },
  {
   "cell_type": "code",
   "execution_count": 21,
   "metadata": {},
   "outputs": [],
   "source": [
    "countries = indicators_df.index.get_level_values('Country').unique()\n",
    "continents = ec.name_converter.convert(countries, to='continent', not_found='Unknown')\n",
    "countries_continents = {country: continent for country, continent in zip(countries, continents)}\n",
    "indicators_df['Continent'] = indicators_df.index.get_level_values('Country').map(countries_continents)"
   ]
  },
  {
   "cell_type": "markdown",
   "metadata": {},
   "source": [
    "#### Income Classification"
   ]
  },
  {
   "cell_type": "code",
   "execution_count": 22,
   "metadata": {},
   "outputs": [],
   "source": [
    "current_income = indicators_df.query('Year == 2020').loc[:, 'Income Group'].droplevel(0).to_dict()\n",
    "indicators_df['Current Income Group'] = indicators_df.index.get_level_values('Country').map(current_income)"
   ]
  },
  {
   "cell_type": "code",
   "execution_count": null,
   "metadata": {},
   "outputs": [],
   "source": [
    "mtp.utils.functions.iprint(indicators_df.columns)"
   ]
  },
  {
   "cell_type": "markdown",
   "metadata": {},
   "source": [
    "# Re-Structure Data"
   ]
  },
  {
   "cell_type": "code",
   "execution_count": 24,
   "metadata": {},
   "outputs": [],
   "source": [
    "group_col = 'Country'\n",
    "subgroup_col = 'Sector'\n",
    "time_col = 'Year'\n",
    "products_cols = ['HS2', 'HS4', 'HS6']"
   ]
  },
  {
   "cell_type": "code",
   "execution_count": null,
   "metadata": {},
   "outputs": [],
   "source": [
    "data.columns"
   ]
  },
  {
   "cell_type": "code",
   "execution_count": 26,
   "metadata": {},
   "outputs": [],
   "source": [
    "country_indexes = [\n",
    "    'ECI',\n",
    "    'Country_Diversity'\n",
    "]"
   ]
  },
  {
   "cell_type": "code",
   "execution_count": null,
   "metadata": {},
   "outputs": [],
   "source": [
    "country_data = (data[[time_col, group_col] + country_indexes]\n",
    "    .drop_duplicates()\n",
    "    .set_index([time_col, group_col]))\n",
    "country_data.head()"
   ]
  },
  {
   "cell_type": "code",
   "execution_count": null,
   "metadata": {},
   "outputs": [],
   "source": [
    "data.columns"
   ]
  },
  {
   "cell_type": "code",
   "execution_count": null,
   "metadata": {},
   "outputs": [],
   "source": [
    "sector_indexes = [c for c in data.columns if c == 'SCI'] + [\n",
    "    'Sector_Diversity',\n",
    "    'Not_Sector_Diversity',   \n",
    "]\n",
    "sector_indexes"
   ]
  },
  {
   "cell_type": "code",
   "execution_count": null,
   "metadata": {},
   "outputs": [],
   "source": [
    "sector_data = (data[[time_col, group_col, subgroup_col] + sector_indexes]\n",
    "    .drop_duplicates()\n",
    "    .set_index([time_col, group_col, subgroup_col])\n",
    "    .rename(columns={'Sector_Diversity': 'Diversity', 'Not_Sector_Diversity': 'notDiversity'})\n",
    "    .unstack(subgroup_col)\n",
    "    )\n",
    "sector_data.columns = [f\"{c[1]} {c[0]}\" for c in sector_data.columns]\n",
    "sector_data.head()"
   ]
  },
  {
   "cell_type": "code",
   "execution_count": null,
   "metadata": {},
   "outputs": [],
   "source": [
    "data.columns"
   ]
  },
  {
   "cell_type": "code",
   "execution_count": null,
   "metadata": {},
   "outputs": [],
   "source": [
    "products_indexes = [c for c in data.columns if 'PCI' in c] + [\n",
    "    'Trade Value',\n",
    "    'Relatedness',\n",
    "    'RCA',\n",
    "    'rawRCA',\n",
    "    'notRCA',\n",
    "    'RCA*Value', \n",
    "    'rawRCA*Value', \n",
    "]\n",
    "products_indexes"
   ]
  },
  {
   "cell_type": "code",
   "execution_count": null,
   "metadata": {},
   "outputs": [],
   "source": [
    "products_data = (data[[time_col, group_col, subgroup_col] + products_cols + products_indexes]\n",
    "    .drop_duplicates()\n",
    "    .set_index([time_col, group_col, subgroup_col] + products_cols)\n",
    "    )\n",
    "products_data"
   ]
  },
  {
   "cell_type": "markdown",
   "metadata": {},
   "source": [
    "# Merge Data and Indicators"
   ]
  },
  {
   "cell_type": "code",
   "execution_count": 34,
   "metadata": {},
   "outputs": [],
   "source": [
    "data_indicators_name = pr.get_path(\"indicators_data\")"
   ]
  },
  {
   "cell_type": "code",
   "execution_count": 35,
   "metadata": {},
   "outputs": [],
   "source": [
    "data_indicators = country_data.merge(sector_data, left_index=True, right_index=True)\n",
    "data_indicators = data_indicators.merge(indicators_df, left_index=True, right_index=True)"
   ]
  },
  {
   "cell_type": "code",
   "execution_count": null,
   "metadata": {},
   "outputs": [],
   "source": [
    "data_indicators"
   ]
  },
  {
   "cell_type": "code",
   "execution_count": null,
   "metadata": {},
   "outputs": [],
   "source": [
    "data_indicators.to_parquet(data_indicators_name)\n",
    "data_indicators"
   ]
  },
  {
   "cell_type": "code",
   "execution_count": null,
   "metadata": {},
   "outputs": [],
   "source": [
    "[c for c in data_indicators.columns if \"SCI\" in c]"
   ]
  },
  {
   "cell_type": "code",
   "execution_count": 39,
   "metadata": {},
   "outputs": [],
   "source": [
    "data_of_products = pr.get_path(\"products_data\")"
   ]
  },
  {
   "cell_type": "code",
   "execution_count": null,
   "metadata": {},
   "outputs": [],
   "source": [
    "products_data"
   ]
  },
  {
   "cell_type": "code",
   "execution_count": 41,
   "metadata": {},
   "outputs": [],
   "source": [
    "products_data.to_parquet(data_of_products)"
   ]
  },
  {
   "cell_type": "markdown",
   "metadata": {},
   "source": [
    "***"
   ]
  }
 ],
 "metadata": {
  "kernelspec": {
   "display_name": ".venv",
   "language": "python",
   "name": "python3"
  },
  "language_info": {
   "codemirror_mode": {
    "name": "ipython",
    "version": 3
   },
   "file_extension": ".py",
   "mimetype": "text/x-python",
   "name": "python",
   "nbconvert_exporter": "python",
   "pygments_lexer": "ipython3",
   "version": "3.12.7"
  }
 },
 "nbformat": 4,
 "nbformat_minor": 2
}
