{
 "cells": [
  {
   "cell_type": "code",
   "execution_count": 1,
   "metadata": {},
   "outputs": [],
   "source": [
    "import mitoolspro as mtp\n",
    "import pandas as pd\n",
    "import re\n",
    "from mitoolspro.project import Project\n",
    "from mitoolspro.utils import RECALCULATE\n",
    "from mitoolspro.utils.objects import StringMapper"
   ]
  },
  {
   "cell_type": "code",
   "execution_count": null,
   "metadata": {},
   "outputs": [],
   "source": [
    "pr = Project.load(auto_load=True)"
   ]
  },
  {
   "cell_type": "code",
   "execution_count": 3,
   "metadata": {},
   "outputs": [],
   "source": [
    "show = False\n",
    "recalculate = False"
   ]
  },
  {
   "cell_type": "markdown",
   "metadata": {},
   "source": [
    "# Load Data"
   ]
  },
  {
   "cell_type": "code",
   "execution_count": 4,
   "metadata": {},
   "outputs": [],
   "source": [
    "data_name = pr.get_path('final_data')\n",
    "data = pd.read_parquet(data_name).reset_index()"
   ]
  },
  {
   "cell_type": "code",
   "execution_count": null,
   "metadata": {},
   "outputs": [],
   "source": [
    "data"
   ]
  },
  {
   "cell_type": "markdown",
   "metadata": {},
   "source": [
    "# Rename Indicators"
   ]
  },
  {
   "cell_type": "code",
   "execution_count": 6,
   "metadata": {},
   "outputs": [],
   "source": [
    "sector_mapping = {\n",
    "    'Agriculture': 'Agr',\n",
    "    'Fishing': 'Fis',\n",
    "    'Food & Beverages': 'FnB',\n",
    "    'Machinery': 'Mch',\n",
    "    'Iron & Steel': 'InS',\n",
    "    'Electronics & Instruments': 'EnI',\n",
    "    'Metal Products': 'Met',\n",
    "    'Mining & Quarrying': 'MnQ',\n",
    "    'Other Manufacturing': 'OthM',\n",
    "    'Petroleum, Chemicals & Non-Metals': 'PCh',\n",
    "    'Textiles & Wearing Apparel': 'Tex',\n",
    "    'Transport Equipment': 'TrEq',\n",
    "    'Wood & Paper': 'WnP'\n",
    "}\n",
    "others_mapping = {\n",
    "    'Year': 'Year',\n",
    "    'Country': 'Country',\n",
    "    'Continent': 'Continent',\n",
    "    'Income Group': 'IncomeGroup',\n",
    "    'Current Income Group': 'CurrIncomeGroup'\n",
    "}\n",
    "eci_indexes = ['SCI', 'SECI', 'SCP', 'ECI']"
   ]
  },
  {
   "cell_type": "code",
   "execution_count": 7,
   "metadata": {},
   "outputs": [],
   "source": [
    "def rename_eci_indexes(string, replace_mapping):\n",
    "    pattern = re.compile('|'.join(re.escape(key) for key in replace_mapping.keys()))\n",
    "    def replace_match(match):\n",
    "        return replace_mapping[match.group(0)]\n",
    "    return pattern.sub(replace_match, string).replace(' ', '').replace('+', '')\n",
    "\n",
    "renamed_eci_cols = {c: rename_eci_indexes(c, sector_mapping) for c in data.columns if any([eci_idx in c for eci_idx in eci_indexes])}"
   ]
  },
  {
   "cell_type": "code",
   "execution_count": null,
   "metadata": {},
   "outputs": [],
   "source": [
    "renamed_eci_cols"
   ]
  },
  {
   "cell_type": "code",
   "execution_count": 9,
   "metadata": {},
   "outputs": [],
   "source": [
    "custom_mapping = {**renamed_eci_cols, **others_mapping}"
   ]
  },
  {
   "cell_type": "code",
   "execution_count": 10,
   "metadata": {},
   "outputs": [],
   "source": [
    "leftover_mapping = {}\n",
    "n = 0\n",
    "for c in data.columns:\n",
    "    if c not in custom_mapping:\n",
    "        leftover_mapping[c] = f\"Indicator{n}X\"\n",
    "        n += 1"
   ]
  },
  {
   "cell_type": "code",
   "execution_count": 11,
   "metadata": {},
   "outputs": [],
   "source": [
    "str_maps_file = pr.get_path('string_map')"
   ]
  },
  {
   "cell_type": "code",
   "execution_count": 12,
   "metadata": {},
   "outputs": [],
   "source": [
    "variables_map = {**custom_mapping, **leftover_mapping}\n",
    "str_mapper = StringMapper(variables_map, pass_if_mapped=True)\n",
    "str_mapper.add_relation('Intercept', 'Intercept')\n",
    "str_mapper.save_mappings(str_maps_file)"
   ]
  },
  {
   "cell_type": "code",
   "execution_count": 13,
   "metadata": {},
   "outputs": [],
   "source": [
    "data.columns = str_mapper.uglify_strs(data.columns)"
   ]
  },
  {
   "cell_type": "code",
   "execution_count": null,
   "metadata": {},
   "outputs": [],
   "source": [
    "data"
   ]
  },
  {
   "cell_type": "markdown",
   "metadata": {},
   "source": [
    "***"
   ]
  }
 ],
 "metadata": {
  "kernelspec": {
   "display_name": ".venv",
   "language": "python",
   "name": "python3"
  },
  "language_info": {
   "codemirror_mode": {
    "name": "ipython",
    "version": 3
   },
   "file_extension": ".py",
   "mimetype": "text/x-python",
   "name": "python",
   "nbconvert_exporter": "python",
   "pygments_lexer": "ipython3",
   "version": "3.12.7"
  }
 },
 "nbformat": 4,
 "nbformat_minor": 2
}
