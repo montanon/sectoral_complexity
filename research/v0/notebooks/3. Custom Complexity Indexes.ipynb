{
 "cells": [
  {
   "cell_type": "code",
   "execution_count": null,
   "metadata": {},
   "outputs": [],
   "source": [
    "import os\n",
    "os.environ[\"DYLD_FALLBACK_LIBRARY_PATH\"] = \"/opt/homebrew/lib:/opt/homebrew/opt/cairo/lib\" # :/\n",
    "import pandas as pd\n",
    "from mitoolspro.project import Project\n",
    "from mitoolspro.utils import RECALCULATE"
   ]
  },
  {
   "cell_type": "code",
   "execution_count": null,
   "metadata": {},
   "outputs": [],
   "source": [
    "pr = Project.load(auto_load=True)"
   ]
  },
  {
   "cell_type": "code",
   "execution_count": 5,
   "metadata": {},
   "outputs": [],
   "source": [
    "show = True\n",
    "validate = True"
   ]
  },
  {
   "cell_type": "markdown",
   "metadata": {},
   "source": [
    "# Load Data"
   ]
  },
  {
   "cell_type": "code",
   "execution_count": 6,
   "metadata": {},
   "outputs": [],
   "source": [
    "origin_col = 'Country'\n",
    "products_col = ['Sector', 'HS2', 'HS4', 'HS6']\n",
    "value_col = 'Trade Value'"
   ]
  },
  {
   "cell_type": "code",
   "execution_count": 7,
   "metadata": {},
   "outputs": [],
   "source": [
    "all_data_file = pr.get_path(\"complexity_data\")"
   ]
  },
  {
   "cell_type": "code",
   "execution_count": 22,
   "metadata": {},
   "outputs": [],
   "source": [
    "data_file = pr.get_path(\"data_file\")\n",
    "data = pd.read_parquet(all_data_file)"
   ]
  },
  {
   "cell_type": "code",
   "execution_count": null,
   "metadata": {},
   "outputs": [],
   "source": [
    "print(\"Total Amount of Sectors:\", len(data.index.get_level_values(\"Sector\").unique()))\n",
    "print(\"Sectors:\")\n",
    "for s in data.index.get_level_values(\"Sector\").unique():\n",
    "    print(f\"- {s}\")"
   ]
  },
  {
   "cell_type": "code",
   "execution_count": null,
   "metadata": {},
   "outputs": [],
   "source": [
    "if validate:\n",
    "    print('Validation of Consistent Total Exports Amount:', pr.vars['total_exports'] == data['Trade Value'].sum())"
   ]
  },
  {
   "cell_type": "code",
   "execution_count": null,
   "metadata": {},
   "outputs": [],
   "source": [
    "data"
   ]
  },
  {
   "cell_type": "markdown",
   "metadata": {},
   "source": [
    "# Positive PCI"
   ]
  },
  {
   "cell_type": "code",
   "execution_count": 28,
   "metadata": {},
   "outputs": [],
   "source": [
    "def standardize_group(group, col):\n",
    "    std = group[col].std()\n",
    "    mean = group[col].mean()\n",
    "    group[col] = (group[col] - mean) / std\n",
    "    return group[col]\n",
    "\n",
    "def scale_group(group, col):\n",
    "    min_val = group[col].min()\n",
    "    max_val = group[col].max()\n",
    "    group[col] = (group[col] - min_val) / (max_val - min_val)\n",
    "    return group[col]\n",
    "\n",
    "def add_min_to_group(group, col):\n",
    "    min_value = group[col].min()\n",
    "    if min_value < 0:\n",
    "        group[col] = group[col] + abs(min_value)\n",
    "    return group[col]"
   ]
  },
  {
   "cell_type": "code",
   "execution_count": 29,
   "metadata": {},
   "outputs": [],
   "source": [
    "base_pci = 'PCI'"
   ]
  },
  {
   "cell_type": "code",
   "execution_count": null,
   "metadata": {},
   "outputs": [],
   "source": [
    "pci_plus = data.groupby(['Year', 'Sector']).apply(lambda x: add_min_to_group(x, base_pci)).droplevel([0, 1]).to_frame()\n",
    "pci_plus.columns = ['PCI+']\n",
    "data = data.merge(pci_plus, left_on=['Year', 'Country', 'Sector', 'HS2', 'HS4', 'HS6'], right_index=True, how='left')"
   ]
  },
  {
   "cell_type": "markdown",
   "metadata": {},
   "source": [
    "#### SCI Terms"
   ]
  },
  {
   "cell_type": "code",
   "execution_count": null,
   "metadata": {},
   "outputs": [],
   "source": [
    "pci = [c for c in data.columns if 'PCI' in c and c not in ['PCI']][0]\n",
    "pci"
   ]
  },
  {
   "cell_type": "code",
   "execution_count": 32,
   "metadata": {},
   "outputs": [],
   "source": [
    "data['PCI*RCA'] = data[pci] * data['RCA']\n",
    "data['PCI*RCA*Value'] = data['PCI*RCA'] * data[value_col]"
   ]
  },
  {
   "cell_type": "code",
   "execution_count": 33,
   "metadata": {},
   "outputs": [],
   "source": [
    "data['RCA*Value'] = data['RCA'] * data[value_col]\n",
    "data['rawRCA*Value'] = data['rawRCA'] * data[value_col]"
   ]
  },
  {
   "cell_type": "markdown",
   "metadata": {},
   "source": [
    "##### SCI Potential Terms"
   ]
  },
  {
   "cell_type": "code",
   "execution_count": 34,
   "metadata": {},
   "outputs": [],
   "source": [
    "data['notRCA'] = (1 - data['RCA'])"
   ]
  },
  {
   "cell_type": "code",
   "execution_count": 35,
   "metadata": {},
   "outputs": [],
   "source": [
    "data['notRCA*Rel*PCI'] = data['notRCA'] * data['Relatedness'] * data[pci]"
   ]
  },
  {
   "cell_type": "markdown",
   "metadata": {},
   "source": [
    "#### Sectors and Countries Properties"
   ]
  },
  {
   "cell_type": "markdown",
   "metadata": {},
   "source": [
    "###### Sector Diversity"
   ]
  },
  {
   "cell_type": "code",
   "execution_count": 36,
   "metadata": {},
   "outputs": [],
   "source": [
    "sector_diversity_column = 'Sector_Diversity'\n",
    "if sector_diversity_column not in data.columns or RECALCULATE:\n",
    "    sector_diversity = data.groupby(by=['Year', 'Country', 'Sector'])['RCA'].sum().to_frame()\n",
    "    sector_diversity.columns = [sector_diversity_column]\n",
    "    data = data.merge(sector_diversity, left_on=['Year', 'Country', 'Sector'], right_index=True, how='left')\n",
    "    data.to_parquet(all_data_file)"
   ]
  },
  {
   "cell_type": "markdown",
   "metadata": {},
   "source": [
    "###### Not Sector Diversity"
   ]
  },
  {
   "cell_type": "code",
   "execution_count": 37,
   "metadata": {},
   "outputs": [],
   "source": [
    "not_sector_diversity_col = 'Not_Sector_Diversity'\n",
    "if not_sector_diversity_col not in data.columns or RECALCULATE:\n",
    "    not_sector_diversity = data.groupby(by=['Year', 'Country', 'Sector'])['notRCA'].sum().to_frame()\n",
    "    not_sector_diversity.columns = [not_sector_diversity_col]\n",
    "    data = data.merge(not_sector_diversity, left_on=['Year', 'Country', 'Sector'], right_index=True, how='left')\n",
    "    data.to_parquet(all_data_file)"
   ]
  },
  {
   "cell_type": "markdown",
   "metadata": {},
   "source": [
    "###### Country Diversity"
   ]
  },
  {
   "cell_type": "code",
   "execution_count": 38,
   "metadata": {},
   "outputs": [],
   "source": [
    "country_diversity_col = 'Country_Diversity'\n",
    "if country_diversity_col not in data.columns or RECALCULATE:\n",
    "    country_diversity = data.groupby(by=['Year', 'Country'])['RCA'].sum().to_frame()\n",
    "    country_diversity.columns = [country_diversity_col]\n",
    "    data = data.merge(country_diversity, left_on=['Year', 'Country'], right_index=True, how='left')\n",
    "    data.to_parquet(all_data_file)"
   ]
  },
  {
   "cell_type": "markdown",
   "metadata": {},
   "source": [
    "###### Countries with Invalid Values"
   ]
  },
  {
   "cell_type": "code",
   "execution_count": null,
   "metadata": {},
   "outputs": [],
   "source": [
    "data.groupby(by=['Year', 'Country', 'Sector'])['RCA*Value'].sum()[data.groupby(by=['Year', 'Country', 'Sector'])['RCA*Value'].sum() == 0.0].groupby(['Year', 'Country']).count()"
   ]
  },
  {
   "cell_type": "markdown",
   "metadata": {},
   "source": [
    "#### Sectoral Complexity Index (SCI)"
   ]
  },
  {
   "cell_type": "code",
   "execution_count": 40,
   "metadata": {},
   "outputs": [],
   "source": [
    "sci_col = \"SumSCI\"\n",
    "if sci_col not in data.columns or RECALCULATE:\n",
    "    sci = data.groupby(by=['Year', 'Country', 'Sector'])['PCI*RCA'].sum().to_frame()\n",
    "    sci.columns = [sci_col]\n",
    "    data = data.merge(sci, left_on=['Year', 'Country', 'Sector'], right_index=True, how='left')\n",
    "    data.to_parquet(all_data_file)"
   ]
  },
  {
   "cell_type": "markdown",
   "metadata": {},
   "source": [
    "###### Invalid Data Points"
   ]
  },
  {
   "cell_type": "code",
   "execution_count": null,
   "metadata": {},
   "outputs": [],
   "source": [
    "data"
   ]
  },
  {
   "cell_type": "code",
   "execution_count": null,
   "metadata": {},
   "outputs": [],
   "source": [
    "data[sci_col].loc[data[sci_col].isna()]"
   ]
  },
  {
   "cell_type": "markdown",
   "metadata": {},
   "source": [
    "## Standardized SCI"
   ]
  },
  {
   "cell_type": "code",
   "execution_count": null,
   "metadata": {},
   "outputs": [],
   "source": [
    "sci = [c for c in data.columns if 'SumSCI' in c][0]\n",
    "sci"
   ]
  },
  {
   "cell_type": "code",
   "execution_count": 44,
   "metadata": {},
   "outputs": [],
   "source": [
    "std_sci_col = f\"{sci.replace('Sum', 'Sc')}\"\n",
    "if std_sci_col not in data.columns or RECALCULATE:\n",
    "    std_sci = data.groupby(['Sector']).apply(lambda x: scale_group(x, sci)).droplevel([0]).to_frame()\n",
    "    std_sci.columns = [std_sci_col]\n",
    "    data = data.merge(std_sci, left_on=['Year', 'Country', 'Sector', 'HS2', 'HS4', 'HS6'], right_index=True, how='left')\n",
    "data.to_parquet(all_data_file)"
   ]
  },
  {
   "cell_type": "markdown",
   "metadata": {},
   "source": [
    "# View Data"
   ]
  },
  {
   "cell_type": "code",
   "execution_count": null,
   "metadata": {},
   "outputs": [],
   "source": [
    "data"
   ]
  },
  {
   "cell_type": "code",
   "execution_count": null,
   "metadata": {},
   "outputs": [],
   "source": [
    "if validate:\n",
    "    print('Validation of Consistent Total Exports Amount:', pr.vars['total_exports'] == data['Trade Value'].sum())"
   ]
  },
  {
   "cell_type": "markdown",
   "metadata": {},
   "source": [
    "***"
   ]
  }
 ],
 "metadata": {
  "kernelspec": {
   "display_name": ".venv",
   "language": "python",
   "name": "python3"
  },
  "language_info": {
   "codemirror_mode": {
    "name": "ipython",
    "version": 3
   },
   "file_extension": ".py",
   "mimetype": "text/x-python",
   "name": "python",
   "nbconvert_exporter": "python",
   "pygments_lexer": "ipython3",
   "version": "3.12.7"
  }
 },
 "nbformat": 4,
 "nbformat_minor": 2
}
