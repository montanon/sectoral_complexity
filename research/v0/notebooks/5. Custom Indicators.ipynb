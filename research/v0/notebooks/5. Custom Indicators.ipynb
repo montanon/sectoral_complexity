{
 "cells": [
  {
   "cell_type": "code",
   "execution_count": 1,
   "metadata": {},
   "outputs": [],
   "source": [
    "import mitoolspro as mtp\n",
    "import pandas as pd\n",
    "import numpy as np\n",
    "from mitoolspro.project import Project\n",
    "from mitoolspro.utils import RECALCULATE"
   ]
  },
  {
   "cell_type": "code",
   "execution_count": null,
   "metadata": {},
   "outputs": [],
   "source": [
    "pr = Project.load(auto_load=True)"
   ]
  },
  {
   "cell_type": "code",
   "execution_count": 3,
   "metadata": {},
   "outputs": [],
   "source": [
    "show = True"
   ]
  },
  {
   "cell_type": "markdown",
   "metadata": {},
   "source": [
    "# Load Data"
   ]
  },
  {
   "cell_type": "code",
   "execution_count": 4,
   "metadata": {},
   "outputs": [],
   "source": [
    "data_indicators_name = pr.get_path(\"indicators_data\")"
   ]
  },
  {
   "cell_type": "code",
   "execution_count": 5,
   "metadata": {},
   "outputs": [],
   "source": [
    "data = pd.read_parquet(data_indicators_name)"
   ]
  },
  {
   "cell_type": "code",
   "execution_count": null,
   "metadata": {},
   "outputs": [],
   "source": [
    "data"
   ]
  },
  {
   "cell_type": "markdown",
   "metadata": {},
   "source": [
    "# Percentages to 0.0-1.0"
   ]
  },
  {
   "cell_type": "code",
   "execution_count": 7,
   "metadata": {},
   "outputs": [],
   "source": [
    "percentage_indicators = [\n",
    " 'Cultural Globalisation',\n",
    " 'Cultural Globalisation, de facto',\n",
    " 'Cultural Globalisation, de jure',\n",
    " 'Economic Globalisation',\n",
    " 'Economic Globalisation, de facto',\n",
    " 'Economic Globalisation, de jure',\n",
    " 'Financial Globalisation',\n",
    " 'Financial Globalisation, de facto',\n",
    " 'Financial Globalisation, de jure',\n",
    " 'Globalisation Index',\n",
    " 'Globalisation Index, de facto',\n",
    " 'Globalisation Index, de jure',\n",
    " 'Informational Globalisation',\n",
    " 'Informational Globalisation, de facto',\n",
    " 'Informational Globalisation, de jure',\n",
    " 'Interpersonal Globalisation',\n",
    " 'Interpersonal Globalisation, de facto',\n",
    " 'Interpersonal Globalisation, de jure',\n",
    " 'Political Globalisation',\n",
    " 'Political Globalisation, de facto',\n",
    " 'Political Globalisation, de jure',\n",
    " 'Social Globalisation',\n",
    " 'Social Globalisation, de facto',\n",
    " 'Social Globalisation, de jure',\n",
    " 'Trade Globalisation',\n",
    " 'Trade Globalisation, de facto',\n",
    " 'Trade Globalisation, de jure',\n",
    "'Employment in agriculture (% of total employment) (modeled ILO estimate)',\n",
    "'Employment in industry (% of total employment) (modeled ILO estimate)',\n",
    "'Employment in services (% of total employment) (modeled ILO estimate)',\n",
    "'Merchandise exports to high-income economies (% of total merchandise exports)',\n",
    "'Employment to population ratio, 15+, total (%) (modeled ILO estimate)',\n",
    "'Employment to population ratio, 15+, total (%) (national estimate)',\n",
    "'Income share held by fourth 20%',\n",
    "'Income share held by highest 10%',\n",
    "'Income share held by highest 20%',\n",
    "'Income share held by lowest 10%',\n",
    "'Income share held by lowest 20%',\n",
    "'Income share held by second 20%',\n",
    "'Income share held by third 20%',\n",
    "'Access to electricity (% of population)',\n",
    "'Access to electricity, rural (% of rural population)',\n",
    "'Access to electricity, urban (% of urban population)',\n",
    "'Adequacy of social insurance programs (% of total welfare of beneficiary households)',\n",
    "'Adequacy of social protection and labor programs (% of total welfare of beneficiary households)',\n",
    "'Adjusted net enrollment rate, primary (% of primary school age children)',\n",
    "'Adjusted net national income (annual % growth)',\n",
    "'Adjusted net national income per capita (annual % growth)',\n",
    "'Agricultural land (% of land area)',\n",
    "'Agricultural methane emissions (% of total)',\n",
    "'Agricultural nitrous oxide emissions (% of total)',\n",
    "'Agricultural raw materials exports (% of merchandise exports)',\n",
    "'Agriculture, forestry, and fishing, value added (% of GDP)',\n",
    "'Agriculture, forestry, and fishing, value added (annual % growth)',\n",
    "'Alternative and nuclear energy (% of total energy use)',\n",
    "'Annual freshwater withdrawals, agriculture (% of total freshwater withdrawal)',\n",
    "'Annual freshwater withdrawals, industry (% of total freshwater withdrawal)',\n",
    "'Arable land (% of land area)',\n",
    "'CO2 emissions from electricity and heat production, total (% of total fuel combustion)',\n",
    "'CO2 emissions from manufacturing industries and construction (% of total fuel combustion)',\n",
    "'CO2 emissions from other sectors, excluding residential buildings and commercial and public services (% of total fuel combustion)',\n",
    "'CO2 emissions from residential buildings and commercial and public services (% of total fuel combustion)',\n",
    "'CO2 emissions from transport (% of total fuel combustion)',\n",
    "'Central government debt, total (% of GDP)',\n",
    "'Chemicals (% of value added in manufacturing)',\n",
    "'Child employment in agriculture (% of economically active children ages 7-14)',\n",
    "'Child employment in manufacturing (% of economically active children ages 7-14)',\n",
    "'Child employment in services (% of economically active children ages 7-14)',\n",
    "'Combustible renewables and waste (% of total energy)',\n",
    "'Computer, communications and other services (% of commercial service exports)',\n",
    "'Domestic credit to private sector (% of GDP)',\n",
    "'Electricity production from coal sources (% of total)',\n",
    "'Electricity production from hydroelectric sources (% of total)',\n",
    "'Electricity production from natural gas sources (% of total)',\n",
    "'Electricity production from nuclear sources (% of total)',\n",
    "'Electricity production from oil sources (% of total)',\n",
    "'Electricity production from oil, gas and coal sources (% of total)',\n",
    "'Electricity production from renewable sources, excluding hydroelectric (% of total)',\n",
    "'Exports of goods and services (% of GDP)',\n",
    "'Fertilizer consumption (% of fertilizer production)',\n",
    "'Food, beverages and tobacco (% of value added in manufacturing)',\n",
    "'Forest area (% of land area)',\n",
    "'Forest rents (% of GDP)',\n",
    "'Fossil fuel energy consumption (% of total)',\n",
    "'GDP growth (annual %)',\n",
    "'GDP per capita growth (annual %)',\n",
    "'GNI growth (annual %)',\n",
    "'GNI per capita growth (annual %)',\n",
    "'General government final consumption expenditure (% of GDP)',\n",
    "'High-technology exports (% of manufactured exports)',\n",
    "'Individuals using the Internet (% of population)',\n",
    "'Industry (including construction), value added (% of GDP)',\n",
    "'Inflation, consumer prices (annual %)',\n",
    "'Labor force with advanced education (% of total working-age population with advanced education)',\n",
    "'Labor force with basic education (% of total working-age population with basic education)',\n",
    "'Labor force with intermediate education (% of total working-age population with intermediate education)',\n",
    "'Losses due to theft and vandalism (% of annual sales for affected firms)',\n",
    "'Manufacturing, value added (% of GDP)',\n",
    "'Medium and high-tech manufacturing value added (% manufacturing value added)',\n",
    "'Merchandise exports to low- and middle-income economies in East Asia & Pacific (% of total merchandise exports)',\n",
    "'Merchandise exports to low- and middle-income economies in Europe & Central Asia (% of total merchandise exports)',\n",
    "'Merchandise exports to low- and middle-income economies in Latin America & the Caribbean (% of total merchandise exports)',\n",
    "'Merchandise exports to low- and middle-income economies in Middle East & North Africa (% of total merchandise exports)',\n",
    "'Merchandise exports to low- and middle-income economies in South Asia (% of total merchandise exports)',\n",
    "'Merchandise exports to low- and middle-income economies in Sub-Saharan Africa (% of total merchandise exports)',\n",
    "'Merchandise exports to low- and middle-income economies outside region (% of total merchandise exports)',\n",
    "'Merchandise exports to low- and middle-income economies within region (% of total merchandise exports)',\n",
    "'Merchandise imports from high-income economies (% of total merchandise imports)',\n",
    "'Methane emissions (% change from 1990)',\n",
    "'Mineral rents (% of GDP)',\n",
    "'Monetary Sector credit to private sector (% GDP)',\n",
    "'Natural gas rents (% of GDP)',\n",
    "'Nitrous oxide emissions (% change from 1990)',\n",
    "'Nitrous oxide emissions in energy sector (% of total)',\n",
    "'Oil rents (% of GDP)',\n",
    "'Ores and metals exports (% of merchandise exports)',\n",
    "'Ores and metals imports (% of merchandise imports)',\n",
    "'Other manufacturing (% of value added in manufacturing)',\n",
    "'Permanent cropland (% of land area)',\n",
    "'Population growth (annual %)',\n",
    "'Population in the largest city (% of urban population)',\n",
    "'Population in urban agglomerations of more than 1 million (% of total population)',\n",
    "'Population living in slums (% of urban population)',\n",
    "'Prevalence of moderate or severe food insecurity in the population (%)',\n",
    "'Prevalence of severe food insecurity in the population (%)',\n",
    "'Prevalence of undernourishment (% of population)',\n",
    "'Real interest rate (%)',\n",
    "'RenewETotalpctESupply',\n",
    "'Renewable electricity output (% of total electricity output)',\n",
    "'Renewable energy consumption (% of total final energy consumption)',\n",
    "'Research and development expenditure (% of GDP)',\n",
    "'Rural population (% of total population)',\n",
    "'Rural population growth (annual %)',\n",
    "'Services, value added (% of GDP)',\n",
    "'Services, value added (annual % growth)',\n",
    "'Tax revenue (% of GDP)',\n",
    "'Taxes on exports (% of tax revenue)',\n",
    "'Taxes on goods and services (% of revenue)',\n",
    "'Taxes on goods and services (% value added of industry and services)',\n",
    "'Taxes on income, profits and capital gains (% of revenue)',\n",
    "'Taxes on income, profits and capital gains (% of total taxes)',\n",
    "'Taxes on international trade (% of revenue)',\n",
    "'Total natural resources rents (% of GDP)',\n",
    "'Trade (% of GDP)',\n",
    "'Transport services (% of commercial service exports)',\n",
    "'Urban population (% of total population)',\n",
    "'Urban population growth (annual %)',\n",
    "'Value lost due to electrical outages (% of sales for affected firms)',\n",
    "'Ease of doing business score (0 = lowest performance to 100 = best performance)',\n",
    "]"
   ]
  },
  {
   "cell_type": "code",
   "execution_count": null,
   "metadata": {},
   "outputs": [],
   "source": [
    "mtp.utils.functions.iprint([c for c in data.columns if c not in percentage_indicators])"
   ]
  },
  {
   "cell_type": "code",
   "execution_count": 9,
   "metadata": {},
   "outputs": [],
   "source": [
    "data.loc[:, percentage_indicators] = data.loc[:, percentage_indicators].apply(lambda x: x/100.0 if x.max() > 1.0 else x, axis=1)"
   ]
  },
  {
   "cell_type": "markdown",
   "metadata": {},
   "source": [
    "# Custom Indicators"
   ]
  },
  {
   "cell_type": "code",
   "execution_count": 10,
   "metadata": {},
   "outputs": [],
   "source": [
    "population = 'Population, total'\n",
    "current_gdp = 'GDP (current US$)'\n",
    "energy_consumption = 'EnergySupplyTotalMillToe'\n",
    "total_ghg_emissions = 'Total greenhouse gas emissions (kt of CO2 equivalent)'\n",
    "total_co2_emissions = 'CO2 emissions (kt)'\n",
    "cropland_footprint = 'Cropland Eco Footprint'\n",
    "grazing_footprint = 'Grazing Land Eco Footprint'\n",
    "ecological_footprint = 'Total Eco Footprint'"
   ]
  },
  {
   "cell_type": "code",
   "execution_count": 11,
   "metadata": {},
   "outputs": [],
   "source": [
    "total_patents = 'Total Patents'\n",
    "resident_patents = 'Patent applications, residents' \n",
    "nonresident_patents = 'Patent applications, nonresidents'\n",
    "total_patents_indicators = mtp.pandas_utils.add_columns(data, resident_patents, nonresident_patents, rename=total_patents)\n",
    "data = data.merge(total_patents_indicators, left_index=True, right_index=True, how='left').sort_index(level=[0, 1], axis=0).sort_index(axis=1)"
   ]
  },
  {
   "cell_type": "code",
   "execution_count": 12,
   "metadata": {},
   "outputs": [],
   "source": [
    "total_patents_pcap = 'Total Patents per Capita'\n",
    "total_patents_pcap_indicators = mtp.pandas_utils.divide_columns(data, total_patents, population, rename=total_patents_pcap)\n",
    "data = data.merge(total_patents_pcap_indicators, left_index=True, right_index=True, how='left').sort_index(level=[0, 1], axis=0).sort_index(axis=1)"
   ]
  },
  {
   "cell_type": "code",
   "execution_count": 13,
   "metadata": {},
   "outputs": [],
   "source": [
    "environmental_patents = 'Environmental Patents'\n",
    "env_patents_pcap = 'Environmental Patents per Capita'\n",
    "env_patents_pcap_indicators = mtp.pandas_utils.divide_columns(data, environmental_patents, population, rename=env_patents_pcap)\n",
    "data = data.merge(env_patents_pcap_indicators, left_index=True, right_index=True, how='left').sort_index(level=[0, 1], axis=0).sort_index(axis=1)"
   ]
  },
  {
   "cell_type": "code",
   "execution_count": 14,
   "metadata": {},
   "outputs": [],
   "source": [
    "renewable_energy_consumption_pct = 'Renewable energy consumption (% of total final energy consumption)'\n",
    "renewable_energy_consumption = 'Renewable energy consumption (mill ton oil eq)'\n",
    "renewable_energy_consumption_indicators = mtp.pandas_utils.multiply_columns(data, renewable_energy_consumption_pct, energy_consumption, rename=renewable_energy_consumption)\n",
    "data = data.merge(renewable_energy_consumption_indicators, left_index=True, right_index=True, how='left').sort_index(level=[0, 1], axis=0).sort_index(axis=1)"
   ]
  },
  {
   "cell_type": "code",
   "execution_count": 15,
   "metadata": {},
   "outputs": [],
   "source": [
    "non_renewable_energy_consumption = 'Non-renewable energy consumption (mill ton oil eq)'\n",
    "non_renewable_energy_consumption_indicators = mtp.pandas_utils.subtract_columns(data, energy_consumption, renewable_energy_consumption, rename=non_renewable_energy_consumption)\n",
    "data = data.merge(non_renewable_energy_consumption_indicators, left_index=True, right_index=True, how='left').sort_index(level=[0, 1], axis=0).sort_index(axis=1)"
   ]
  },
  {
   "cell_type": "code",
   "execution_count": 16,
   "metadata": {},
   "outputs": [],
   "source": [
    "trade_pct = 'Trade (% of GDP)'\n",
    "trade_value = 'Trade (GDP current US$)'\n",
    "trade_value_indicators = mtp.pandas_utils.multiply_columns(data, trade_pct, current_gdp, rename=trade_value)\n",
    "data = data.merge(trade_value_indicators, left_index=True, right_index=True, how='left').sort_index(level=[0, 1], axis=0).sort_index(axis=1)"
   ]
  },
  {
   "cell_type": "code",
   "execution_count": null,
   "metadata": {},
   "outputs": [],
   "source": [
    "[c for c in data.columns if \"GDP\" in c]"
   ]
  },
  {
   "cell_type": "code",
   "execution_count": 18,
   "metadata": {},
   "outputs": [],
   "source": [
    "trade_pcap = 'Trade per Capita'\n",
    "trade_pcap_indicators = mtp.pandas_utils.divide_columns(data, trade_value, population, rename=trade_pcap)\n",
    "data = data.merge(trade_pcap_indicators, left_index=True, right_index=True, how='left').sort_index(level=[0, 1], axis=0).sort_index(axis=1)"
   ]
  },
  {
   "cell_type": "code",
   "execution_count": 19,
   "metadata": {},
   "outputs": [],
   "source": [
    "energy_productivity = 'Energy Productivity'\n",
    "energy_productivity_indicators = mtp.pandas_utils.divide_columns(data, current_gdp, energy_consumption, rename=energy_productivity)\n",
    "data = data.merge(energy_productivity_indicators, left_index=True, right_index=True, how='left').sort_index(level=[0, 1], axis=0).sort_index(axis=1)"
   ]
  },
  {
   "cell_type": "code",
   "execution_count": 20,
   "metadata": {},
   "outputs": [],
   "source": [
    "energy_productivity_pcap = 'Energy Productivity per Capita'\n",
    "energy_productivity_pcap_indicators = mtp.pandas_utils.divide_columns(data, energy_productivity, population, rename=energy_productivity_pcap)\n",
    "data = data.merge(energy_productivity_pcap_indicators, left_index=True, right_index=True, how='left').sort_index(level=[0, 1], axis=0).sort_index(axis=1)"
   ]
  },
  {
   "cell_type": "code",
   "execution_count": 21,
   "metadata": {},
   "outputs": [],
   "source": [
    "energy_consumption_pcap = 'Energy Consumption per Capita'\n",
    "energy_consumption_pcap_indicators = mtp.pandas_utils.divide_columns(data, energy_consumption, population, rename=energy_consumption_pcap)\n",
    "data = data.merge(energy_consumption_pcap_indicators, left_index=True, right_index=True, how='left').sort_index(level=[0, 1], axis=0).sort_index(axis=1)"
   ]
  },
  {
   "cell_type": "code",
   "execution_count": 22,
   "metadata": {},
   "outputs": [],
   "source": [
    "energy_intensity = 'Energy Intensity'\n",
    "energy_intensity_indicators = mtp.pandas_utils.divide_columns(data, energy_consumption, current_gdp, rename=energy_intensity)\n",
    "data = data.merge(energy_intensity_indicators, left_index=True, right_index=True, how='left').sort_index(level=[0, 1], axis=0).sort_index(axis=1)"
   ]
  },
  {
   "cell_type": "code",
   "execution_count": 23,
   "metadata": {},
   "outputs": [],
   "source": [
    "energy_intensity_pcap = 'Energy Intensity per Capita'\n",
    "energy_intensity_pcap_indicators = mtp.pandas_utils.divide_columns(data, energy_intensity, population, rename=energy_intensity_pcap)\n",
    "data = data.merge(energy_intensity_pcap_indicators, left_index=True, right_index=True, how='left').sort_index(level=[0, 1], axis=0).sort_index(axis=1)"
   ]
  },
  {
   "cell_type": "code",
   "execution_count": 24,
   "metadata": {},
   "outputs": [],
   "source": [
    "ghg_emissions_intensity = 'Emissions Intensity (GHG)'\n",
    "ghg_emissions_intensity_indicators = mtp.pandas_utils.divide_columns(data, total_ghg_emissions, current_gdp, rename=ghg_emissions_intensity)\n",
    "data = data.merge(ghg_emissions_intensity_indicators, left_index=True, right_index=True, how='left').sort_index(level=[0, 1], axis=0).sort_index(axis=1)"
   ]
  },
  {
   "cell_type": "code",
   "execution_count": 25,
   "metadata": {},
   "outputs": [],
   "source": [
    "ghg_emissions_intensity_pcap = 'Emissions Intensity per Capita (GHG)'\n",
    "ghg_emissions_intensity_pcap_indicators = mtp.pandas_utils.divide_columns(data, ghg_emissions_intensity, population, rename=ghg_emissions_intensity_pcap)\n",
    "data = data.merge(ghg_emissions_intensity_pcap_indicators, left_index=True, right_index=True, how='left').sort_index(level=[0, 1], axis=0).sort_index(axis=1)"
   ]
  },
  {
   "cell_type": "code",
   "execution_count": 26,
   "metadata": {},
   "outputs": [],
   "source": [
    "co2_emissions_intensity = 'Emissions Intensity (CO2)'\n",
    "co2_emissions_intensity_indicators = mtp.pandas_utils.divide_columns(data, total_co2_emissions, current_gdp, rename=co2_emissions_intensity)\n",
    "data = data.merge(co2_emissions_intensity_indicators, left_index=True, right_index=True, how='left').sort_index(level=[0, 1], axis=0).sort_index(axis=1)"
   ]
  },
  {
   "cell_type": "code",
   "execution_count": 27,
   "metadata": {},
   "outputs": [],
   "source": [
    "co2_emissions_intensity_pcap = 'Emissions Intensity per Capita (CO2)'\n",
    "co2_emissions_intensity_pcap_indicators = mtp.pandas_utils.divide_columns(data, co2_emissions_intensity, population, rename=co2_emissions_intensity_pcap)\n",
    "data = data.merge(co2_emissions_intensity_pcap_indicators, left_index=True, right_index=True, how='left').sort_index(level=[0, 1], axis=0).sort_index(axis=1)"
   ]
  },
  {
   "cell_type": "code",
   "execution_count": 28,
   "metadata": {},
   "outputs": [],
   "source": [
    "agriculture_footprint = 'Agriculture Footprint'\n",
    "agriculture_footprint_indicators = mtp.pandas_utils.add_columns(data, cropland_footprint, grazing_footprint, rename=agriculture_footprint)\n",
    "data = data.merge(agriculture_footprint_indicators, left_index=True, right_index=True, how='left').sort_index(level=[0, 1], axis=0).sort_index(axis=1)"
   ]
  },
  {
   "cell_type": "code",
   "execution_count": 29,
   "metadata": {},
   "outputs": [],
   "source": [
    "ecological_footprint_pcap = 'Total Ecological Footprint per Capita'\n",
    "ecological_footprint_pcap_indicators = mtp.pandas_utils.divide_columns(data, ecological_footprint, population, rename=ecological_footprint_pcap)\n",
    "data = data.merge(ecological_footprint_pcap_indicators, left_index=True, right_index=True, how='left').sort_index(level=[0, 1], axis=0).sort_index(axis=1)"
   ]
  },
  {
   "cell_type": "markdown",
   "metadata": {},
   "source": [
    "# Square Indicators"
   ]
  },
  {
   "cell_type": "code",
   "execution_count": null,
   "metadata": {},
   "outputs": [],
   "source": [
    "eci_tags = ['ECI', 'SECI', 'SCI']\n",
    "eci_cols = [c for c in data.columns if any([tag in c for tag in eci_tags])]\n",
    "eci_cols"
   ]
  },
  {
   "cell_type": "code",
   "execution_count": 31,
   "metadata": {},
   "outputs": [],
   "source": [
    "squaring_indicators = [\n",
    "'Non-renewable energy consumption (mill ton oil eq)',\n",
    "'Urban population growth (annual %)',\n",
    "'Urban population (% of total population)',\n",
    "'Trade per Capita',\n",
    "'Trade (GDP current US$)',\n",
    "'Total greenhouse gas emissions (kt of CO2 equivalent)',\n",
    "'Total natural resources rents (% of GDP)',\n",
    "'Trade (% of GDP)',\n",
    "'Total Eco Footprint',\n",
    "'Total Ecological Footprint per Capita',\n",
    "'Total Patents',\n",
    "'Total Patents per Capita',\n",
    "'Research and development expenditure (% of GDP)',\n",
    "'Researchers in R&D (per million people)',\n",
    "'RenewETotalpctESupply',\n",
    "'Renewable electricity output (% of total electricity output)',\n",
    "'Renewable energy consumption (% of total final energy consumption)',\n",
    "'Renewable energy consumption (mill ton oil eq)',\n",
    "'Adjusted net national income (annual % growth)',\n",
    "'Adjusted net national income (constant 2015 US$)',\n",
    "'Adjusted net national income (current US$)',\n",
    "'Adjusted net national income per capita (annual % growth)',\n",
    "'Adjusted net national income per capita (constant 2015 US$)',\n",
    "'Adjusted net national income per capita (current US$)',\n",
    "'CO2 emissions (kg per PPP $ of GDP)',\n",
    "'CO2 emissions (kt)',\n",
    "'CO2 emissions (metric tons per capita)',\n",
    "'CO2 intensity (kg per kg of oil equivalent energy use)',\n",
    "'Electric power consumption (kWh per capita)',                      \n",
    "'Emissions Intensity (CO2)',\n",
    "'Emissions Intensity (GHG)',\n",
    "'Emissions Intensity per Capita (CO2)',\n",
    "'Emissions Intensity per Capita (GHG)',\n",
    "'Energy Consumption per Capita',\n",
    "'Energy Intensity',\n",
    "'Energy Intensity per Capita',\n",
    "'Energy Productivity',\n",
    "'Energy Productivity per Capita',\n",
    "'Energy intensity level of primary energy (MJ/$2017 PPP GDP)',\n",
    "'Energy use (kg of oil equivalent per capita)',\n",
    "'Energy use (kg of oil equivalent) per $1,000 GDP (constant 2017 PPP)',\n",
    "'EnergySupplyTotalMillToe',\n",
    "'Environmental Patents',\n",
    "'Environmental Patents per Capita',\n",
    "'Foreign direct investment, net (BoP, current US$)',\n",
    "'GDP (current US$)',\n",
    "'GDP growth (annual %)',\n",
    "'GDP per capita growth (annual %)',\n",
    "'GDP per capita, PPP (current international $)',\n",
    "'GDP per person employed (constant 2017 PPP $)',\n",
    "'GDP per unit of energy use (PPP $ per kg of oil equivalent)',\n",
    "'GDP per unit of energy use (constant 2017 PPP $ per kg of oil equivalent)',\n",
    "'GDP, PPP (current international $)',\n",
    "'GDPTotalMillUSD',\n",
    "'Gini index',\n",
    "'Globalisation Index',  \n",
    "'Labor force, total', \n",
    "'Monetary Sector credit to private sector (% GDP)',   \n",
    "'Population, total',             \n",
    "*eci_cols,\n",
    "]\n",
    "squaring_indicators = list(set(squaring_indicators))"
   ]
  },
  {
   "cell_type": "code",
   "execution_count": 32,
   "metadata": {},
   "outputs": [],
   "source": [
    "transformation = np.square\n",
    "squared_indicators = mtp.pandas_utils.transform_columns(data, transformation, squaring_indicators)\n",
    "data = data.merge(squared_indicators, left_index=True, right_index=True, how='left').sort_index(level=[0, 1], axis=0).sort_index(axis=1)"
   ]
  },
  {
   "cell_type": "markdown",
   "metadata": {},
   "source": [
    "# Log Indicators"
   ]
  },
  {
   "cell_type": "code",
   "execution_count": null,
   "metadata": {},
   "outputs": [],
   "source": [
    "min_indicators_values = data[\n",
    "    [c for c in data.columns if c not in [\n",
    "        'Continent', 'Current Income Group', 'Data Quality Score Eco Footprint', 'Income Group'\n",
    "        ]\n",
    "        ]].min(axis=0)\n",
    "positive_indicators = min_indicators_values.loc[min_indicators_values >= 0.0].index\n",
    "ln_indicators = [c for c in positive_indicators if ('_square' not in c) and (c not in eci_cols) and ('Diversity' not in c)]\n",
    "transformation = np.log\n",
    "log_indicators = mtp.pandas_utils.transform_columns(data, transformation, ln_indicators)\n",
    "data = data.merge(log_indicators, left_index=True, right_index=True, how='left').sort_index(level=[0, 1], axis=0).sort_index(axis=1)"
   ]
  },
  {
   "cell_type": "markdown",
   "metadata": {},
   "source": [
    "# Handle Non-Numeric Data"
   ]
  },
  {
   "cell_type": "code",
   "execution_count": null,
   "metadata": {},
   "outputs": [],
   "source": [
    "data.select_dtypes(exclude=[np.number, 'boolean']).columns"
   ]
  },
  {
   "cell_type": "code",
   "execution_count": 35,
   "metadata": {},
   "outputs": [],
   "source": [
    "data = data.set_index(['Continent', 'Income Group', 'Current Income Group'], append=True)\n",
    "data = data[[c for c in data.columns if c != 'Data Quality Score Eco Footprint']]"
   ]
  },
  {
   "cell_type": "code",
   "execution_count": null,
   "metadata": {},
   "outputs": [],
   "source": [
    "data"
   ]
  },
  {
   "cell_type": "markdown",
   "metadata": {},
   "source": [
    "# Review NaN Countries"
   ]
  },
  {
   "cell_type": "markdown",
   "metadata": {},
   "source": [
    "### Drop NaN Income Groups"
   ]
  },
  {
   "cell_type": "code",
   "execution_count": null,
   "metadata": {},
   "outputs": [],
   "source": [
    "nan_countries = data.loc[data.index.get_level_values('Income Group').isna()].index.get_level_values('Country').unique()\n",
    "nan_countries"
   ]
  },
  {
   "cell_type": "code",
   "execution_count": null,
   "metadata": {},
   "outputs": [],
   "source": [
    "data = data.loc[~data.index.get_level_values('Country').isin(nan_countries)]\n",
    "data"
   ]
  },
  {
   "cell_type": "code",
   "execution_count": null,
   "metadata": {},
   "outputs": [],
   "source": [
    "print(f\"{data.index.get_level_values('Country').nunique()} countries leftover!\")"
   ]
  },
  {
   "cell_type": "code",
   "execution_count": 40,
   "metadata": {},
   "outputs": [],
   "source": [
    "def count_nans(df, country):\n",
    "    return pd.DataFrame(df.isnull().sum(), columns=[country])"
   ]
  },
  {
   "cell_type": "code",
   "execution_count": null,
   "metadata": {},
   "outputs": [],
   "source": [
    "eci_tags = ['SCI', 'SCP', 'SECI', 'ECI']\n",
    "eci_cols = [c for c in data.columns if any([tag in c for tag in eci_tags])]\n",
    "eci_cols"
   ]
  },
  {
   "cell_type": "code",
   "execution_count": 42,
   "metadata": {},
   "outputs": [],
   "source": [
    "for c in eci_cols:\n",
    "    countries = data.loc[data[c].isna(), c].index.get_level_values('Country').unique().values\n",
    "    if len(countries) != 0:\n",
    "        print(c, len(countries))"
   ]
  },
  {
   "cell_type": "code",
   "execution_count": null,
   "metadata": {},
   "outputs": [],
   "source": [
    "nans = []\n",
    "for n, g in data.groupby('Country'):\n",
    "    nans.append(count_nans(g, n))\n",
    "nans = pd.concat(nans, axis=1)\n",
    "with pd.option_context('display.max_columns', None, 'display.max_rows', None):\n",
    "    display(nans.T.describe().sort_values(by='mean', axis=1))"
   ]
  },
  {
   "cell_type": "code",
   "execution_count": null,
   "metadata": {},
   "outputs": [],
   "source": [
    "with pd.option_context('display.max_columns', None, 'display.max_rows', None):\n",
    "    display(nans.loc[(nans == 0).all(axis=1)].T.describe().sort_values(by='mean', axis=1))"
   ]
  },
  {
   "cell_type": "markdown",
   "metadata": {},
   "source": [
    "## Extras"
   ]
  },
  {
   "cell_type": "code",
   "execution_count": null,
   "metadata": {},
   "outputs": [],
   "source": [
    "data['Energy Consumption per Capita'] = data['Energy Consumption per Capita'] * 10e4\n",
    "data['Energy Consumption per Capita_log'] = np.log(data['Energy Consumption per Capita'])\n",
    "data['Environmental Patents per Capita'] = data['Environmental Patents per Capita'] * 10e3\n",
    "data['Environmental Patents per Capita_log'] = np.log(data['Environmental Patents per Capita'])\n",
    "data['Environmental Patents per Capita_sqrt'] = np.sqrt(data['Environmental Patents per Capita'])"
   ]
  },
  {
   "cell_type": "code",
   "execution_count": 46,
   "metadata": {},
   "outputs": [],
   "source": [
    "data['GDP per capita (current US$)_square'] = data['GDP per capita (current US$)'] ** 2\n",
    "data['GDP per capita (current US$)_square_log'] = np.log(data['GDP per capita (current US$)_square'])\n",
    "data['GDP per capita, PPP (current international $)_square'] = data['GDP per capita, PPP (current international $)'] ** 2\n",
    "data['GDP per capita, PPP (current international $)_square_log'] = np.log(data['GDP per capita, PPP (current international $)_square'])"
   ]
  },
  {
   "cell_type": "markdown",
   "metadata": {},
   "source": [
    "# Store Data"
   ]
  },
  {
   "cell_type": "code",
   "execution_count": 47,
   "metadata": {},
   "outputs": [],
   "source": [
    "final_data_name = pr.get_path(\"final_data\")"
   ]
  },
  {
   "cell_type": "code",
   "execution_count": 48,
   "metadata": {},
   "outputs": [],
   "source": [
    "data.to_parquet(final_data_name)"
   ]
  },
  {
   "cell_type": "code",
   "execution_count": null,
   "metadata": {},
   "outputs": [],
   "source": [
    "data"
   ]
  },
  {
   "cell_type": "markdown",
   "metadata": {},
   "source": [
    "***"
   ]
  }
 ],
 "metadata": {
  "kernelspec": {
   "display_name": ".venv",
   "language": "python",
   "name": "python3"
  },
  "language_info": {
   "codemirror_mode": {
    "name": "ipython",
    "version": 3
   },
   "file_extension": ".py",
   "mimetype": "text/x-python",
   "name": "python",
   "nbconvert_exporter": "python",
   "pygments_lexer": "ipython3",
   "version": "3.12.7"
  }
 },
 "nbformat": 4,
 "nbformat_minor": 2
}
