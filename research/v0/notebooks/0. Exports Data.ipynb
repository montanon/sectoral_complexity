{
 "cells": [
  {
   "cell_type": "code",
   "execution_count": 1,
   "metadata": {},
   "outputs": [],
   "source": [
    "import mitoolspro as mtp\n",
    "import pandas as pd\n",
    "import numpy as np\n",
    "from mitoolspro.project import Project\n",
    "from mitoolspro import economic_complexity as ec"
   ]
  },
  {
   "cell_type": "code",
   "execution_count": null,
   "metadata": {},
   "outputs": [],
   "source": [
    "pr = Project.load(auto_load=True)"
   ]
  },
  {
   "cell_type": "markdown",
   "metadata": {},
   "source": [
    "# DataBases"
   ]
  },
  {
   "cell_type": "code",
   "execution_count": 3,
   "metadata": {},
   "outputs": [],
   "source": [
    "raw_db = mtp.databases.MainConnection(pr.get_path('raw_db_path'))\n",
    "db = mtp.databases.MainConnection(pr.get_path(\"database\"))"
   ]
  },
  {
   "cell_type": "markdown",
   "metadata": {},
   "source": [
    "# Parameters"
   ]
  },
  {
   "cell_type": "code",
   "execution_count": 4,
   "metadata": {},
   "outputs": [],
   "source": [
    "years = pr.vars['years']\n",
    "raw_tablenames = [f'oec_hs_trade_{year}' for year in years]"
   ]
  },
  {
   "cell_type": "code",
   "execution_count": 5,
   "metadata": {},
   "outputs": [],
   "source": [
    "time_id = pr.vars['time_id']\n",
    "data_id = pr.vars['data_id']\n",
    "raw_tablename = ec.create_data_name(data_id, 'raw')\n",
    "clean_tablename = ec.create_data_name(data_id, 'clean')"
   ]
  },
  {
   "cell_type": "code",
   "execution_count": 6,
   "metadata": {},
   "outputs": [],
   "source": [
    "countries_population_tablename = 'country_population'"
   ]
  },
  {
   "cell_type": "markdown",
   "metadata": {},
   "source": [
    "#### HS Codes"
   ]
  },
  {
   "cell_type": "code",
   "execution_count": 7,
   "metadata": {},
   "outputs": [],
   "source": [
    "hs_codes = pd.read_sql(\"SELECT * FROM hs_codes\", raw_db, index_col='index')"
   ]
  },
  {
   "cell_type": "code",
   "execution_count": 8,
   "metadata": {},
   "outputs": [],
   "source": [
    "hs_codes = hs_codes[['Section', 'Section ID', 'HS2', 'HS2 ID', 'HS4', 'HS4 ID', 'HS6', 'HS6 ID']].drop_duplicates()\n",
    "hs6 = hs_codes[['HS6 ID', 'HS6']].drop_duplicates()\n",
    "hs_codes = hs_codes.loc[~hs6['HS6'].duplicated(keep='last')].reset_index(drop=True).sort_values(by=['Section ID', 'HS2 ID', 'HS4 ID', 'HS6 ID'])"
   ]
  },
  {
   "cell_type": "code",
   "execution_count": null,
   "metadata": {},
   "outputs": [],
   "source": [
    "hs_codes.to_sql('hs_codes', db, if_exists='replace')"
   ]
  },
  {
   "cell_type": "code",
   "execution_count": 10,
   "metadata": {},
   "outputs": [],
   "source": [
    "create_clean_table = not mtp.databases.check_if_table(db, clean_tablename)"
   ]
  },
  {
   "cell_type": "markdown",
   "metadata": {},
   "source": [
    "# Transfer Raw Data"
   ]
  },
  {
   "cell_type": "code",
   "execution_count": 11,
   "metadata": {},
   "outputs": [],
   "source": [
    "if not mtp.databases.check_if_table(db, raw_tablename):\n",
    "    data = pd.concat(mtp.databases.read_sql_tables(raw_db, raw_tablenames), axis=0).reset_index(drop=True)\n",
    "    data = data.astype({\n",
    "        'Year': np.int32,\n",
    "        'HS2 ID': np.int32,\n",
    "        'HS4 ID': np.int32,\n",
    "        'HS6 ID': np.int32,\n",
    "        'Trade Value': np.float32\n",
    "    })\n",
    "    data.to_sql(raw_tablename, db, if_exists='replace', index=False)\n",
    "else:\n",
    "    data = pd.read_sql(f\"SELECT * FROM {raw_tablename}\", db)"
   ]
  },
  {
   "cell_type": "markdown",
   "metadata": {},
   "source": [
    "# Standardize Countries Names"
   ]
  },
  {
   "cell_type": "code",
   "execution_count": 12,
   "metadata": {},
   "outputs": [],
   "source": [
    "cc = ec.name_converter"
   ]
  },
  {
   "cell_type": "markdown",
   "metadata": {},
   "source": [
    "#### Remove Inexistent Countries"
   ]
  },
  {
   "cell_type": "code",
   "execution_count": 13,
   "metadata": {},
   "outputs": [],
   "source": [
    "data = data.loc[~data['Country'].isin(['Belgium-Luxembourg', 'Yugoslavia'])].copy(deep=True)"
   ]
  },
  {
   "cell_type": "markdown",
   "metadata": {},
   "source": [
    "#### Map Names"
   ]
  },
  {
   "cell_type": "code",
   "execution_count": 14,
   "metadata": {},
   "outputs": [],
   "source": [
    "countries = data['Country'].unique()\n",
    "standardized_countries = cc.convert(countries, to='name_short')\n",
    "countries_map = {c: s for c, s in zip(countries, standardized_countries)}"
   ]
  },
  {
   "cell_type": "code",
   "execution_count": 15,
   "metadata": {},
   "outputs": [],
   "source": [
    "standardized_id_countries = cc.convert(standardized_countries, to='ISO3')\n",
    "id_countries_map = {c: s for c, s in zip(standardized_countries, standardized_id_countries)}"
   ]
  },
  {
   "cell_type": "code",
   "execution_count": 16,
   "metadata": {},
   "outputs": [],
   "source": [
    "data['Country'] = data['Country'].map(countries_map)\n",
    "data['Country ID'] = data['Country'].map(id_countries_map)"
   ]
  },
  {
   "cell_type": "markdown",
   "metadata": {},
   "source": [
    "# Filter by Country Population"
   ]
  },
  {
   "cell_type": "code",
   "execution_count": 17,
   "metadata": {},
   "outputs": [],
   "source": [
    "if not mtp.databases.check_if_table(db, countries_population_tablename):\n",
    "    countries_population = pd.read_sql(f'SELECT * FROM {countries_population_tablename}', raw_db, index_col='index')\n",
    "    countries_population.to_sql(countries_population_tablename, db, if_exists='replace')\n",
    "else:\n",
    "    countries_population = pd.read_sql(f'SELECT * FROM {countries_population_tablename}', db, index_col='index')"
   ]
  },
  {
   "cell_type": "code",
   "execution_count": 18,
   "metadata": {},
   "outputs": [],
   "source": [
    "countries_population = countries_population.loc[~countries_population['Country'].isin(['Channel Islands', 'Virgin Islands', 'Caribbean', 'World'])]\n",
    "countries_population.columns = countries_population.columns.map({\n",
    "    c: c.replace(' ', '') for c in countries_population.columns\n",
    "})"
   ]
  },
  {
   "cell_type": "code",
   "execution_count": 19,
   "metadata": {},
   "outputs": [],
   "source": [
    "pop_countries = countries_population['Country'].unique()\n",
    "standardized_pop_countries = cc.convert(pop_countries, to='name_short')\n",
    "pop_countries_map = {c: s for c, s in zip(pop_countries, standardized_pop_countries)}"
   ]
  },
  {
   "cell_type": "code",
   "execution_count": 20,
   "metadata": {},
   "outputs": [],
   "source": [
    "standardized_id_countries = cc.convert(pop_countries, to='ISO3')\n",
    "id_countries_map = {c: s for c, s in zip(pop_countries, standardized_id_countries)}"
   ]
  },
  {
   "cell_type": "code",
   "execution_count": 21,
   "metadata": {},
   "outputs": [],
   "source": [
    "countries_population['Country'] = countries_population['Country'].map(pop_countries_map)\n",
    "countries_population['Country ID'] = countries_population['Country'].map(id_countries_map)"
   ]
  },
  {
   "cell_type": "markdown",
   "metadata": {},
   "source": [
    "- Filtering countries that have less than 1.000.000 inhabitants by 2020."
   ]
  },
  {
   "cell_type": "code",
   "execution_count": 22,
   "metadata": {},
   "outputs": [],
   "source": [
    "yearly_pop = countries_population.loc[countries_population['Year'] == 2020]\n",
    "populated_countries = yearly_pop.loc[yearly_pop['Measure'] >= 1_000_000]"
   ]
  },
  {
   "cell_type": "markdown",
   "metadata": {},
   "source": [
    "Apply filter:"
   ]
  },
  {
   "cell_type": "code",
   "execution_count": 23,
   "metadata": {},
   "outputs": [],
   "source": [
    "data = data.loc[data['Country'].isin(populated_countries['Country'].values)]"
   ]
  },
  {
   "cell_type": "markdown",
   "metadata": {},
   "source": [
    "# Filter by Amount of Exports"
   ]
  },
  {
   "cell_type": "code",
   "execution_count": 24,
   "metadata": {},
   "outputs": [],
   "source": [
    "countries_exports = data[['Year', 'Country', 'Trade Value']].groupby(by=['Year', 'Country']).sum()[['Trade Value']].reset_index()\n",
    "exporting_countries = countries_exports.loc[countries_exports['Trade Value'] >= 1_000_000_000, 'Country'].unique()"
   ]
  },
  {
   "cell_type": "markdown",
   "metadata": {},
   "source": [
    "Apply filter:"
   ]
  },
  {
   "cell_type": "code",
   "execution_count": 25,
   "metadata": {},
   "outputs": [],
   "source": [
    "data = data.loc[data['Country'].isin(exporting_countries)]"
   ]
  },
  {
   "cell_type": "markdown",
   "metadata": {},
   "source": [
    "# Save Clean Data"
   ]
  },
  {
   "cell_type": "code",
   "execution_count": null,
   "metadata": {},
   "outputs": [],
   "source": [
    "data = data.groupby([c for c in data.columns if c != 'Trade Value']).sum().reset_index()\n",
    "data.to_sql(clean_tablename, db, if_exists='replace', index=False)"
   ]
  },
  {
   "cell_type": "markdown",
   "metadata": {},
   "source": [
    "***"
   ]
  }
 ],
 "metadata": {
  "kernelspec": {
   "display_name": ".venv",
   "language": "python",
   "name": "python3"
  },
  "language_info": {
   "codemirror_mode": {
    "name": "ipython",
    "version": 3
   },
   "file_extension": ".py",
   "mimetype": "text/x-python",
   "name": "python",
   "nbconvert_exporter": "python",
   "pygments_lexer": "ipython3",
   "version": "3.12.7"
  }
 },
 "nbformat": 4,
 "nbformat_minor": 2
}
