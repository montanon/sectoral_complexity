{
 "cells": [
  {
   "cell_type": "code",
   "execution_count": 1,
   "metadata": {},
   "outputs": [],
   "source": [
    "import mitoolspro as mtp\n",
    "import pandas as pd\n",
    "from pandas import DataFrame\n",
    "from mitoolspro.project import Project\n",
    "from mitoolspro.utils.objects import StringMapper\n",
    "from mitoolspro import regressions"
   ]
  },
  {
   "cell_type": "code",
   "execution_count": null,
   "metadata": {},
   "outputs": [],
   "source": [
    "pr = Project.load(auto_load=True)\n",
    "str_mapper = StringMapper.load_mappings(pr.get_path(\"string_map\"))"
   ]
  },
  {
   "cell_type": "code",
   "execution_count": 3,
   "metadata": {},
   "outputs": [],
   "source": [
    "def significances_map(x):\n",
    "    if float(x) <= 0.001:\n",
    "        return '***'\n",
    "    elif float(x) <= 0.01:\n",
    "        return '**'\n",
    "    elif float(x) <= 0.05:\n",
    "        return '*'\n",
    "    return ''"
   ]
  },
  {
   "cell_type": "code",
   "execution_count": 4,
   "metadata": {},
   "outputs": [],
   "source": [
    "data_name = pr.get_path(\"final_data\")\n",
    "data = pd.read_parquet(data_name).reset_index()\n",
    "data = data.set_index(['Year', 'Country', 'Continent', 'Income Group', 'Current Income Group'])"
   ]
  },
  {
   "cell_type": "code",
   "execution_count": null,
   "metadata": {},
   "outputs": [],
   "source": [
    "[c for c in data.columns if ' SCI' in c and '_square' not in c]"
   ]
  },
  {
   "cell_type": "code",
   "execution_count": null,
   "metadata": {},
   "outputs": [],
   "source": [
    "regression_type = 'ols'\n",
    "regression_degree = 'linear'\n",
    "transform = True\n",
    "eci_tag = 'SCI'\n",
    "levels_var = 'Income Group'\n",
    "id_var = 'Country'\n",
    "dependent_variable = 'CO2 emissions (metric tons per capita)'\n",
    "independent_variables = [v for v in data.columns if v.endswith(f' {eci_tag}')]\n",
    "if regression_degree == 'quadratic':\n",
    "    independent_variables = [f'{v}_square' for v in independent_variables] + independent_variables\n",
    "independent_variables.sort()\n",
    "control_variables = [\n",
    "    'Economic Globalisation',\n",
    "    'Energy Consumption per Capita',\n",
    "    'Environmental Patents per Capita',\n",
    "    'Renewable energy consumption (% of total final energy consumption)',\n",
    "    'Total natural resources rents (% of GDP)',\n",
    "    'Urban population (% of total population)',\n",
    "]\n",
    "income_levels = ['All income', 'High income', 'Upper middle income', 'Lower middle income', 'Low income']\n",
    "independent_variables"
   ]
  },
  {
   "cell_type": "code",
   "execution_count": 7,
   "metadata": {},
   "outputs": [],
   "source": [
    "def get_transformed_variable(data: DataFrame, var: str, transformation: str) -> str:\n",
    "    if transformation in [\"log\", \"square\", \"boxcox\"]:\n",
    "        if f\"{var}_{transformation}\" in data.columns:\n",
    "            return f\"{var}_{transformation}\"\n",
    "        else:\n",
    "            raise ValueError(f\"{var}_{transformation} not in data columns\")\n",
    "    if transformation is None:\n",
    "        return var\n",
    "    else:\n",
    "        raise NotImplementedError(f\"{transformation} not implemented\")"
   ]
  },
  {
   "cell_type": "code",
   "execution_count": 8,
   "metadata": {},
   "outputs": [],
   "source": [
    "transformations = {\n",
    "    'CO2 emissions (metric tons per capita)': 'log',\n",
    "}\n",
    "if transform:\n",
    "    dependent_variable = get_transformed_variable(data, dependent_variable, transformations.get(dependent_variable, None))\n",
    "    control_variables = [get_transformed_variable(data, v, transformations.get(v, None)) for v in control_variables]\n",
    "control_variables.sort()"
   ]
  },
  {
   "cell_type": "code",
   "execution_count": 9,
   "metadata": {},
   "outputs": [],
   "source": [
    "variables = independent_variables + control_variables + [dependent_variable]"
   ]
  },
  {
   "cell_type": "code",
   "execution_count": 10,
   "metadata": {},
   "outputs": [],
   "source": [
    "reg_data = data.loc[:, variables]"
   ]
  },
  {
   "cell_type": "markdown",
   "metadata": {},
   "source": [
    "# Statistical Testing"
   ]
  },
  {
   "cell_type": "code",
   "execution_count": null,
   "metadata": {},
   "outputs": [],
   "source": [
    "test_data = {}\n",
    "for income_level in income_levels:\n",
    "    income_data = reg_data.loc[reg_data.index.get_level_values('Income Group') == income_level] if income_level != 'All income' else reg_data\n",
    "    income_data = income_data.dropna(axis=0, how='any')\n",
    "    print(income_level, income_data.shape[0])\n",
    "    test_data[income_level] = income_data"
   ]
  },
  {
   "cell_type": "code",
   "execution_count": null,
   "metadata": {},
   "outputs": [],
   "source": [
    "data.index.get_level_values('Country').nunique()"
   ]
  },
  {
   "cell_type": "markdown",
   "metadata": {},
   "source": [
    "## Descriptive Statistics"
   ]
  },
  {
   "cell_type": "code",
   "execution_count": 13,
   "metadata": {},
   "outputs": [],
   "source": [
    "def create_data_description(data, income_level=None):\n",
    "\n",
    "    data_stats = data.describe(percentiles=[0.5]).T\n",
    "    data_stats.columns = [\n",
    "                \"N° Observations\",\n",
    "                \"Mean\",\n",
    "                \"Std. Dev.\",\n",
    "                \"Min\",\n",
    "                \"Median\",\n",
    "                \"Max\",\n",
    "            ]\n",
    "    data_stats[\"Kurtosis\"] = data.kurtosis()\n",
    "    data_stats[\"Skewness\"] = data.skew()\n",
    "    data_stats[\"N° Observations\"] = data_stats[\n",
    "        \"N° Observations\"\n",
    "    ].astype(int)\n",
    "    numeric_cols = [c for c in data_stats.columns if c != \"N° Observations\"]\n",
    "    data_stats[numeric_cols] = data_stats[numeric_cols].round(7)\n",
    "    data_stats.columns = (\n",
    "        pd.MultiIndex.from_product([[income_level], data_stats.columns])\n",
    "        if income_level\n",
    "        else data_stats.columns\n",
    "    )\n",
    "\n",
    "    return data_stats"
   ]
  },
  {
   "cell_type": "code",
   "execution_count": null,
   "metadata": {},
   "outputs": [],
   "source": [
    "all_income_stats = create_data_description(test_data['All income'], 'All income')\n",
    "all_income_stats.to_excel(pr.get_path('descriptive_statistics'))\n",
    "all_income_stats"
   ]
  },
  {
   "cell_type": "code",
   "execution_count": null,
   "metadata": {},
   "outputs": [],
   "source": [
    "print(mtp.pandas_utils.dataframe_to_latex(all_income_stats.round(3).astype(str)))"
   ]
  },
  {
   "cell_type": "code",
   "execution_count": 16,
   "metadata": {},
   "outputs": [],
   "source": [
    "incomes_stats = []\n",
    "for income_level in ['High income', 'Upper middle income', 'Lower middle income', 'Low income']:\n",
    "    income_stats = create_data_description(test_data[income_level])\n",
    "    income_stats.index = pd.MultiIndex.from_tuples([(income_level, idx) for idx in income_stats.index])\n",
    "    incomes_stats.append(income_stats)\n",
    "incomes_stats = pd.concat(incomes_stats)\n",
    "incomes_stats.to_excel(pr.get_path('descriptive_statistics_by_income'))    "
   ]
  },
  {
   "cell_type": "code",
   "execution_count": null,
   "metadata": {},
   "outputs": [],
   "source": [
    "print(mtp.pandas_utils.dataframe_to_latex(incomes_stats.round(3).astype(str)))"
   ]
  },
  {
   "cell_type": "markdown",
   "metadata": {},
   "source": [
    "#### Shapiro-Wilk Test"
   ]
  },
  {
   "cell_type": "code",
   "execution_count": null,
   "metadata": {},
   "outputs": [],
   "source": [
    "shapiro_tests = pd.concat({k: regressions.statistical_tests.shapiro_tests(v) for k, v in test_data.items()})\n",
    "shapiro_tests.columns = pd.MultiIndex.from_tuples([('Shapiro-Wilk', col) for col in shapiro_tests.columns])\n",
    "shapiro_tests = shapiro_tests.unstack(0).reorder_levels([2, 0, 1], axis=1)\n",
    "shapiro_tests = shapiro_tests[[(c[0], c[1], stat) for c in shapiro_tests.columns for stat in ['statistic', 'p-value']]]\n",
    "stat_names = {\n",
    "    'statistic': 'Statistic',\n",
    "    'p-value': 'p-value'\n",
    "}\n",
    "shapiro_tests.columns = pd.MultiIndex.from_tuples([(c[0], c[1], stat_names.get(c[-1], c[-1])) for c in shapiro_tests.columns])\n",
    "shapiro_tests.index.name = \"\"\n",
    "\n",
    "shapiro_tests"
   ]
  },
  {
   "cell_type": "code",
   "execution_count": null,
   "metadata": {},
   "outputs": [],
   "source": [
    "print(mtp.pandas_utils.dataframe_to_latex(shapiro_tests))"
   ]
  },
  {
   "cell_type": "markdown",
   "metadata": {},
   "source": [
    "#### Anderson-Darling Test"
   ]
  },
  {
   "cell_type": "code",
   "execution_count": null,
   "metadata": {},
   "outputs": [],
   "source": [
    "anderson_tests = pd.concat({k: regressions.statistical_tests.anderson_tests(v, criteria=0.01) for k, v in test_data.items()})\n",
    "anderson_tests.columns = pd.MultiIndex.from_tuples([('Anderson-Darling', col) for col in anderson_tests.columns])\n",
    "anderson_tests = anderson_tests.unstack(0).reorder_levels([2, 0, 1], axis=1)\n",
    "anderson_tests = anderson_tests[[(c[0], c[1], stat) for c in anderson_tests.columns for stat in ['statistic', 'critical_value']]]\n",
    "stat_names = {\n",
    "    'statistic': 'Statistic',\n",
    "    'critical_value': 'Critical Value'\n",
    "}\n",
    "anderson_tests.columns = pd.MultiIndex.from_tuples([(c[0], c[1], stat_names.get(c[-1], c[-1])) for c in anderson_tests.columns])\n",
    "anderson_tests.index.name = \"\"\n",
    "\n",
    "anderson_tests"
   ]
  },
  {
   "cell_type": "code",
   "execution_count": null,
   "metadata": {},
   "outputs": [],
   "source": [
    "print(mtp.pandas_utils.dataframe_to_latex(anderson_tests))"
   ]
  },
  {
   "cell_type": "code",
   "execution_count": null,
   "metadata": {},
   "outputs": [],
   "source": [
    "skewdness_tests = pd.concat([shapiro_tests, anderson_tests], axis=1)\n",
    "skewdness_tests = skewdness_tests.round(2)\n",
    "income_levels = [\"All income\", \"High income\", \"Upper middle income\", \"Lower middle income\", \"Low income\"]\n",
    "statistical_tests = [\n",
    "    ['Anderson-Darling', 'Statistic'],\n",
    "    ['Anderson-Darling', 'Critical Value'],\n",
    "    ['Shapiro-Wilk', 'Statistic'],\n",
    "    ['Shapiro-Wilk', 'p-value'],\n",
    "    ]\n",
    "sorted_cols = pd.MultiIndex.from_tuples([(income, test[0], test[1]) for income in income_levels for test in statistical_tests])\n",
    "skewdness_tests = skewdness_tests[sorted_cols]\n",
    "skewdness_tests.to_excel(pr.get_path('skewdness_tests'))\n",
    "skewdness_tests"
   ]
  },
  {
   "cell_type": "code",
   "execution_count": null,
   "metadata": {},
   "outputs": [],
   "source": [
    "print(mtp.pandas_utils.dataframe_to_latex(skewdness_tests.astype(str)))"
   ]
  },
  {
   "cell_type": "markdown",
   "metadata": {},
   "source": [
    "#### Augmented Dickey-Fuller Test"
   ]
  },
  {
   "cell_type": "code",
   "execution_count": null,
   "metadata": {},
   "outputs": [],
   "source": [
    "adf_tests = pd.concat({k: regressions.statistical_tests.adf_tests(v, critical_value=5, regression='ctt') for k, v in test_data.items()})\n",
    "adf_tests = adf_tests.round(2)\n",
    "stat_names = {\n",
    "    'statistic': 'Statistic',\n",
    "    'p-value': 'p-value',\n",
    "    \"critical_value_5%\": 'Critical Value (5%)'\n",
    "}\n",
    "adf_tests.columns = pd.MultiIndex.from_tuples([('ADF-Test', stat_names.get(col, col)) for col in adf_tests.columns])\n",
    "adf_tests = adf_tests.unstack(0).reorder_levels([2, 0, 1], axis=1)\n",
    "income_levels = [\"All income\", \"High income\", \"Upper middle income\", \"Lower middle income\", \"Low income\"]\n",
    "statistical_tests = [  \n",
    "    ['ADF-Test', 'Statistic'],\n",
    "    ['ADF-Test', 'p-value'],\n",
    "    ['ADF-Test', 'Critical Value (5%)'],\n",
    "    ]\n",
    "sorted_cols = pd.MultiIndex.from_tuples([(income, test[0], test[1]) for income in income_levels for test in statistical_tests])\n",
    "\n",
    "adf_tests.index.name = \"\"\n",
    "adf_tests = adf_tests[sorted_cols]\n",
    "adf_tests.to_excel(pr.get_path('adf_tests'))\n",
    "adf_tests"
   ]
  },
  {
   "cell_type": "code",
   "execution_count": null,
   "metadata": {},
   "outputs": [],
   "source": [
    "print(mtp.pandas_utils.dataframe_to_latex(adf_tests))"
   ]
  },
  {
   "cell_type": "markdown",
   "metadata": {},
   "source": [
    "#### Variance Inflation Factor"
   ]
  },
  {
   "cell_type": "code",
   "execution_count": null,
   "metadata": {},
   "outputs": [],
   "source": [
    "vif_tests = pd.concat({k: regressions.statistical_tests.calculate_vif(v, dependent_variable='CO2 emissions (metric tons per capita)_log', threshold=10) for k, v in test_data.items()})\n",
    "vif_tests.columns = pd.MultiIndex.from_tuples([('VIF', col) for col in vif_tests.columns])\n",
    "vif_tests = vif_tests.unstack(0).reorder_levels([0, 2, 1], axis=1)\n",
    "vif_tests = vif_tests.loc[:, vif_tests.columns.get_level_values(-1) == \"VIF\"].droplevel(-1, axis=1)\n",
    "vif_tests.index.name = \"\"\n",
    "vif_tests.to_excel(pr.get_path('vif_tests'))\n",
    "vif_tests"
   ]
  },
  {
   "cell_type": "code",
   "execution_count": null,
   "metadata": {},
   "outputs": [],
   "source": [
    "print(mtp.pandas_utils.dataframe_to_latex(vif_tests))"
   ]
  },
  {
   "cell_type": "markdown",
   "metadata": {},
   "source": [
    "#### Breusch-Pagan Test"
   ]
  },
  {
   "cell_type": "code",
   "execution_count": null,
   "metadata": {},
   "outputs": [],
   "source": [
    "bp_tests = pd.concat({k: regressions.statistical_tests.breusch_pagan_test(v, 'CO2 emissions (metric tons per capita)_log') for k, v in test_data.items()})\n",
    "bp_tests.columns = pd.MultiIndex.from_tuples([('Breusch-Pagan Test', col) for col in bp_tests.columns])\n",
    "bp_tests.to_excel(pr.get_path('bp_tests'))\n",
    "bp_tests"
   ]
  },
  {
   "cell_type": "code",
   "execution_count": null,
   "metadata": {},
   "outputs": [],
   "source": [
    "print(mtp.pandas_utils.dataframe_to_latex(bp_tests))"
   ]
  },
  {
   "cell_type": "markdown",
   "metadata": {},
   "source": [
    "#### White Test"
   ]
  },
  {
   "cell_type": "code",
   "execution_count": null,
   "metadata": {},
   "outputs": [],
   "source": [
    "white_tests = pd.concat({k: regressions.statistical_tests.white_test(v, 'CO2 emissions (metric tons per capita)_log') for k, v in test_data.items()})\n",
    "white_tests.columns = pd.MultiIndex.from_tuples([('White Test', col) for col in white_tests.columns])\n",
    "white_tests.index.name = \"\"\n",
    "white_tests.to_excel(pr.get_path('white_tests'))\n",
    "white_tests"
   ]
  },
  {
   "cell_type": "code",
   "execution_count": null,
   "metadata": {},
   "outputs": [],
   "source": [
    "print(mtp.pandas_utils.dataframe_to_latex(white_tests))"
   ]
  },
  {
   "cell_type": "markdown",
   "metadata": {},
   "source": [
    "***"
   ]
  }
 ],
 "metadata": {
  "kernelspec": {
   "display_name": ".venv",
   "language": "python",
   "name": "python3"
  },
  "language_info": {
   "codemirror_mode": {
    "name": "ipython",
    "version": 3
   },
   "file_extension": ".py",
   "mimetype": "text/x-python",
   "name": "python",
   "nbconvert_exporter": "python",
   "pygments_lexer": "ipython3",
   "version": "3.12.7"
  }
 },
 "nbformat": 4,
 "nbformat_minor": 2
}
