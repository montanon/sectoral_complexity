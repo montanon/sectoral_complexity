{
 "cells": [
  {
   "cell_type": "code",
   "execution_count": 1,
   "metadata": {},
   "outputs": [],
   "source": [
    "from pandas import DataFrame\n",
    "import pandas as pd\n",
    "import seaborn as sns\n",
    "import matplotlib.pyplot as plt\n",
    "from mitoolspro.project import Project\n",
    "from mitoolspro.utils.objects import StringMapper\n",
    "from mitoolspro.regressions.wrappers.linear_models import QuantilesRegressionSpecs\n",
    "from mitoolspro.regressions.managers import QuantilesRegression\n",
    "import mitoolspro as mtp"
   ]
  },
  {
   "cell_type": "code",
   "execution_count": null,
   "metadata": {},
   "outputs": [],
   "source": [
    "pr = Project.load(auto_load=True)\n",
    "str_mapper = StringMapper.load_mappings(pr.get_path(\"string_map\"))"
   ]
  },
  {
   "cell_type": "code",
   "execution_count": null,
   "metadata": {},
   "outputs": [],
   "source": [
    "data_name = pr.get_path('final_data')\n",
    "data = pd.read_parquet(data_name).reset_index()\n",
    "data = data.set_index(['Year', 'Country', 'Continent', 'Income Group', 'Current Income Group'])\n",
    "data"
   ]
  },
  {
   "cell_type": "code",
   "execution_count": null,
   "metadata": {},
   "outputs": [],
   "source": [
    "sci_cols = [c for c in data.columns if 'SCI' in c and '_square' not in c]\n",
    "sci_cols"
   ]
  },
  {
   "cell_type": "code",
   "execution_count": null,
   "metadata": {},
   "outputs": [],
   "source": [
    "data[sci_cols].loc[data.index.get_level_values('Year') == 2020, \"Textiles & Wearing Apparel SCI\"].sort_values(ascending=False).head(10)"
   ]
  },
  {
   "cell_type": "code",
   "execution_count": 6,
   "metadata": {},
   "outputs": [],
   "source": [
    "regression_type = 'ols'\n",
    "regression_degree = 'quadratic'\n",
    "eci_tag = 'SCI'\n",
    "levels_var = 'Income Group'\n",
    "id_var = 'Country'\n",
    "dependent_variable = 'CO2 emissions (metric tons per capita)'\n",
    "independent_variables = [v for v in data.columns if v.endswith(f' {eci_tag}')]\n",
    "if regression_degree == 'quadratic':\n",
    "    independent_variables = [f'{v}_square' for v in independent_variables] + independent_variables\n",
    "control_variables = [\n",
    "     'Economic Globalisation',\n",
    "     'Energy Consumption per Capita',\n",
    "     'Environmental Patents per Capita',\n",
    "     'Renewable energy consumption (% of total final energy consumption)',\n",
    "     'Total natural resources rents (% of GDP)',\n",
    "     'Urban population (% of total population)',\n",
    " ]"
   ]
  },
  {
   "cell_type": "code",
   "execution_count": null,
   "metadata": {},
   "outputs": [],
   "source": [
    "independent_variables"
   ]
  },
  {
   "cell_type": "code",
   "execution_count": 8,
   "metadata": {},
   "outputs": [],
   "source": [
    "transformations = {\n",
    "    'CO2 emissions (metric tons per capita)': 'log',\n",
    "}"
   ]
  },
  {
   "cell_type": "code",
   "execution_count": 9,
   "metadata": {},
   "outputs": [],
   "source": [
    "def get_transformed_variable(data: DataFrame, var: str, transformation: str | None = None) -> str:\n",
    "    if transformation in [\"log\", \"square\", \"boxcox\"]:\n",
    "        if f\"{var}_{transformation}\" in data.columns:\n",
    "            return f\"{var}_{transformation}\"\n",
    "        else:\n",
    "            raise ValueError(f\"{var}_{transformation} not in data columns\")\n",
    "    if transformation is None:\n",
    "        return var\n",
    "    else:\n",
    "        raise NotImplementedError(f\"{transformation} not implemented\")"
   ]
  },
  {
   "cell_type": "code",
   "execution_count": 10,
   "metadata": {},
   "outputs": [],
   "source": [
    "regression_dep_var = get_transformed_variable(data, dependent_variable, transformations.get(dependent_variable, None))\n",
    "regression_indep_vars = independent_variables\n",
    "regression_indep_vars.sort()\n",
    "regression_control_vars = [get_transformed_variable(data, v, transformations.get(v, None)) for v in control_variables]\n",
    "regression_control_vars.sort()"
   ]
  },
  {
   "cell_type": "code",
   "execution_count": 11,
   "metadata": {},
   "outputs": [],
   "source": [
    "regression_data = data[[regression_dep_var] + regression_indep_vars + regression_control_vars].dropna(axis=0, how='any')\n",
    "regression_data_groups_mask = regression_data.index.to_frame().isna().any(axis=1)\n",
    "regression_data = regression_data[~regression_data_groups_mask]"
   ]
  },
  {
   "cell_type": "code",
   "execution_count": null,
   "metadata": {},
   "outputs": [],
   "source": [
    "regression_data"
   ]
  },
  {
   "cell_type": "code",
   "execution_count": null,
   "metadata": {},
   "outputs": [],
   "source": [
    "n_axes = len(regression_control_vars)\n",
    "fig, axes = plt.subplots(3, 2, figsize=(8 * 2, 8 * 3))\n",
    "colors = sns.color_palette('husl', n_axes)\n",
    "for x, ax in zip(regression_control_vars, axes.flat):\n",
    "    ax = regression_data[[x, regression_dep_var]].plot(kind='scatter', x=x, y=regression_dep_var, ax=ax, s=1.5, color=colors.pop(0))\n",
    "    ax.set_title(x)"
   ]
  },
  {
   "cell_type": "code",
   "execution_count": 14,
   "metadata": {},
   "outputs": [],
   "source": [
    "regression_data.columns = str_mapper.uglify_strs(regression_data.columns)\n",
    "dep_var = str_mapper.uglify_str(regression_dep_var)\n",
    "indep_vars = str_mapper.uglify_strs(regression_indep_vars)\n",
    "control_vars = str_mapper.uglify_strs(regression_control_vars)"
   ]
  },
  {
   "cell_type": "code",
   "execution_count": 15,
   "metadata": {},
   "outputs": [],
   "source": [
    "income_levels = ['Low income', 'Lower middle income', 'Upper middle income', 'High income', 'All income']\n",
    "quantiles = [0.1, 0.2, 0.3, 0.4, 0.5, 0.6, 0.7, 0.8, 0.9]"
   ]
  },
  {
   "cell_type": "code",
   "execution_count": null,
   "metadata": {},
   "outputs": [],
   "source": [
    "regression_data"
   ]
  },
  {
   "cell_type": "code",
   "execution_count": null,
   "metadata": {},
   "outputs": [],
   "source": [
    "t_values = True\n",
    "error_method = \"robust\"\n",
    "max_iter = 10_000\n",
    "regressions_info = {}\n",
    "regressions = {}\n",
    "regressions_coefficients = {}\n",
    "regressions_stats = {}\n",
    "regressions_resids = {}\n",
    "\n",
    "for group in income_levels:\n",
    "    print(group)\n",
    "\n",
    "    group_data = regression_data.loc[regression_data.index.get_level_values('Income Group') == group] if group != 'All income' else regression_data\n",
    "\n",
    "    regression_info = QuantilesRegressionSpecs(\n",
    "        dependent_variable=dep_var,\n",
    "        independent_variables=indep_vars,\n",
    "        quantiles=quantiles,\n",
    "        quadratic=True,\n",
    "        data=group_data,\n",
    "        group=group,\n",
    "        control_variables=control_vars,\n",
    "    )\n",
    "    regressions_info[group] = regression_info\n",
    "\n",
    "    regression = QuantilesRegression(specs=regression_info, max_iter=max_iter, error_method=error_method, t_values=t_values, str_mapper=str_mapper)\n",
    "    regressions[group] = regression\n",
    "    regressions_coefficients[group] = regression.coeffs\n",
    "    regressions_stats[group] = regression.stats\n",
    "    regressions_resids[group] = regression.residuals"
   ]
  },
  {
   "cell_type": "code",
   "execution_count": 18,
   "metadata": {},
   "outputs": [],
   "source": [
    "regression_id = regressions_info[list(regressions_info.keys())[0]].regression_id\n",
    "mtp.files.store_pkl(regressions_info, pr.get_path('regressions') / f'{regression_id}_regressions_info.pkl')\n",
    "mtp.files.store_pkl(regressions, pr.get_path('regressions') / f'{regression_id}_regressions.pkl')\n",
    "mtp.files.store_pkl(regressions_coefficients, pr.get_path('regressions') / f'{regression_id}_regressions_coefficients.pkl')\n",
    "mtp.files.store_pkl(regressions_stats, pr.get_path('regressions') / f'{regression_id}_regressions_stats.pkl')\n",
    "mtp.files.store_pkl(regressions_resids, pr.get_path('regressions') / f'{regression_id}_regressions_resids.pkl')"
   ]
  },
  {
   "cell_type": "code",
   "execution_count": null,
   "metadata": {},
   "outputs": [],
   "source": [
    "for group, reg in regressions.items():\n",
    "    print(f\"{group}:\\n\")\n",
    "    reg.coefficients_quantiles_latex_table()"
   ]
  },
  {
   "cell_type": "code",
   "execution_count": null,
   "metadata": {},
   "outputs": [],
   "source": [
    "coefficients = pd.concat([reg.coefficients_quantiles_table().stack(\"Quantile\", future_stack=True) for reg in regressions.values()], axis=1)\n",
    "coefficients.index = coefficients.index.map(lambda x: (*x[:2], 'quadratic', *x[3:]))\n",
    "\n",
    "with pd.option_context('display.max_rows', None):\n",
    "    display(coefficients)"
   ]
  },
  {
   "cell_type": "code",
   "execution_count": null,
   "metadata": {},
   "outputs": [],
   "source": [
    "all_income_coeff = coefficients[['All income']]\n",
    "all_income_coeff = all_income_coeff.droplevel([0, 1, 2, 3, 4])\n",
    "variables_order = all_income_coeff.index.get_level_values('Independent Vars').unique()\n",
    "all_income_coeff = all_income_coeff.unstack('Quantile')\n",
    "all_income_coeff = all_income_coeff.loc[variables_order, :]\n",
    "all_income_coeff.to_excel(pr.get_path('results') / f'{eci_tag}_All_income_Coeffs_results.xlsx')\n",
    "all_income_coeff"
   ]
  },
  {
   "cell_type": "code",
   "execution_count": 22,
   "metadata": {},
   "outputs": [],
   "source": [
    "for income_level in ['High income', 'Upper middle income', 'Lower middle income', 'Low income']:\n",
    "    income_coeff = coefficients[[income_level]]\n",
    "    income_coeff = income_coeff.droplevel([0, 1, 2, 3, 4])\n",
    "    variables_order = income_coeff.index.get_level_values('Independent Vars').unique()\n",
    "    income_coeff = income_coeff.unstack('Quantile')\n",
    "    income_coeff = income_coeff.loc[variables_order, :]\n",
    "    income_coeff.to_excel(pr.get_path('results') / f'{eci_tag}_{income_level}_Coeffs_results.xlsx')    "
   ]
  },
  {
   "cell_type": "code",
   "execution_count": null,
   "metadata": {},
   "outputs": [],
   "source": [
    "regression_id = coefficients.index.get_level_values(0).unique()[0]\n",
    "indep_vars = coefficients.loc[(coefficients.index.get_level_values(0) == regression_id) & (coefficients.index.get_level_values(4) == 'Exog')].index.get_level_values(-2).unique().tolist()\n",
    "indep_vars = [var for var in indep_vars if '_square' not in var]\n",
    "indep_vars"
   ]
  },
  {
   "cell_type": "code",
   "execution_count": 24,
   "metadata": {},
   "outputs": [],
   "source": [
    "regression_data.columns = str_mapper.prettify_strs(regression_data.columns)"
   ]
  },
  {
   "cell_type": "code",
   "execution_count": null,
   "metadata": {},
   "outputs": [],
   "source": [
    "regression_data"
   ]
  },
  {
   "cell_type": "code",
   "execution_count": 26,
   "metadata": {},
   "outputs": [],
   "source": [
    "regression_data.to_parquet(pr.get_path('data') / f'{regression_id}_regression_data.parquet')"
   ]
  },
  {
   "cell_type": "markdown",
   "metadata": {},
   "source": [
    "#### Make Plot"
   ]
  },
  {
   "cell_type": "code",
   "execution_count": 27,
   "metadata": {},
   "outputs": [],
   "source": [
    "color_palette = sns.color_palette('Paired')\n",
    "colors = {\n",
    "    'Agriculture': color_palette[2],\n",
    "    'Electronics & Instruments': color_palette[6],\n",
    "    'Fishing': color_palette[1],\n",
    "    'Food & Beverages': color_palette[5],\n",
    "    'Iron & Steel': '#484a49',\n",
    "    'Machinery': color_palette[8],\n",
    "    'Metal Products': color_palette[7],\n",
    "    'Mining & Quarrying': color_palette[11],\n",
    "    'Other Manufacturing': color_palette[10],\n",
    "    'Petroleum, Chemicals & Non-Metals': color_palette[9],\n",
    "    'Textiles & Wearing Apparel': color_palette[4],\n",
    "    'Transport Equipment': color_palette[0],\n",
    "    'Wood & Paper': color_palette[3]\n",
    "}\n",
    "\n",
    "income_plot_kwargs = {\n",
    "    'All income': {\n",
    "        'color': 'k',\n",
    "        'linestyle': '--',\n",
    "        'linewidth': 2.0,\n",
    "    },\n",
    "    'High income': {\n",
    "        'color': 'darkgrey',\n",
    "        'linestyle': ':',\n",
    "        'linewidth': 2.0,\n",
    "    },\n",
    "    'Upper middle income': {\n",
    "        'color': 'darkgrey',\n",
    "        'linestyle': ':',\n",
    "        'linewidth': 2.0,\n",
    "    },\n",
    "    'Lower middle income': {\n",
    "        'color': 'darkgrey',\n",
    "        'linestyle': '-',\n",
    "        'linewidth': 2.0,\n",
    "    },\n",
    "    'Low income': {\n",
    "        'color': 'darkgrey',\n",
    "        'linestyle': '-.',\n",
    "        'linewidth': 2.0,\n",
    "    }\n",
    "}\n",
    "\n",
    "significance_plot_kwargs = {\n",
    " '***,***': {\n",
    "    'color': 'k',\n",
    "    'linestyle': '-',\n",
    "    'linewidth': 2.0,\n",
    "        },\n",
    " '***,**': {\n",
    "    'color': 'g',\n",
    "    'linestyle': '--',\n",
    "    'linewidth': 1.5,\n",
    "        },\n",
    " '**,***': {\n",
    "     'color': 'r',\n",
    "     'linestyle': '--',\n",
    "     'linewidth': 1.5,\n",
    "     },\n",
    " '**,**': {\n",
    "     'color': 'g',\n",
    "     'linestyle': '-.',\n",
    "     'linewidth': 1.5,\n",
    "        },\n",
    " '***,*': {\n",
    "     'color': 'b',\n",
    "     'linestyle': (0, (3, 5, 1, 5)),\n",
    "     'linewidth': 1.5,\n",
    "     },\n",
    " '*,***': {\n",
    "     'color': 'r',\n",
    "     'linestyle': (0, (3, 5, 1, 5)),\n",
    "     'linewidth': 1.5,\n",
    "     },\n",
    " '***': {\n",
    "     'color': 'k',\n",
    "     'linestyle': '-',\n",
    "     'linewidth': 2.0,\n",
    "     },\n",
    " '**': {\n",
    "     'color': 'k',\n",
    "     'linestyle': '-.',\n",
    "     'linewidth': 1.5,\n",
    "     },\n",
    " '*': {\n",
    "     'color': 'k',\n",
    "     'linestyle': ':',\n",
    "     'linewidth': 1.5,\n",
    "        },\n",
    " '***,-': {\n",
    "     'color': 'k',\n",
    "     'linestyle': ':',\n",
    "     'linewidth': 1.0\n",
    "     },\n",
    " '**,*': {\n",
    "     'color': 'k',\n",
    "     'linestyle': ':',\n",
    "     'linewidth': 1.0,\n",
    "     },\n",
    " '**,-': {\n",
    "     'color': 'k',\n",
    "     'linestyle': ':',\n",
    "     'linewidth': 1.0,\n",
    "     },\n",
    " '*,*': {\n",
    "     'color': 'b',\n",
    "     'linestyle': ':',\n",
    "     'linewidth': 1.0,\n",
    "     },\n",
    " '*,**': {\n",
    "     'color': 'g',\n",
    "     'linestyle': ':',\n",
    "     'linewidth': 1.0,\n",
    "     },\n",
    " '*,-': {\n",
    "     'color': 'k',\n",
    "     'linestyle': ':',\n",
    "     'linewidth': 1.0,\n",
    "     },\n",
    " '-': {\n",
    "     'color': 'k',\n",
    "     'linestyle': ':',\n",
    "     'linewidth': 1.0,\n",
    "     },\n",
    " '-,*': {\n",
    "     'color': 'b',\n",
    "     'linestyle': ':',\n",
    "     'linewidth': 1.0,\n",
    "     },\n",
    " '-,**': {\n",
    "     'color': 'g',\n",
    "     'linestyle': ':',\n",
    "     'linewidth': 1.0,\n",
    "     },\n",
    " '-,***': {\n",
    "     'color': 'r',\n",
    "     'linestyle': ':',\n",
    "     'linewidth': 1.0,\n",
    "     },\n",
    " '-,-': {\n",
    "     'color': 'k',\n",
    "     'linestyle': ':',\n",
    "     'linewidth': 1.0,\n",
    "     },\n",
    " }\n",
    "\n",
    "income_colors = {\n",
    "            'High income': 'white',\n",
    "            'Upper middle income': (175/255.0, 175/255.0, 175/255.0),\n",
    "            'Lower middle income': (90/255.0, 90/255.0, 90/255.0),\n",
    "            'Low income': 'k',\n",
    "        }"
   ]
  },
  {
   "cell_type": "code",
   "execution_count": null,
   "metadata": {},
   "outputs": [],
   "source": [
    "mt.reg.create_regression_plots(\n",
    "    data = regression_data,\n",
    "    regression_coeffs = coefficients,\n",
    "    regression_id = regression_id,\n",
    "    dependent_variable = regression_dep_var,\n",
    "    independent_variables = indep_vars,\n",
    "    name_tag = 'Regression Results',\n",
    "    groups = income_levels,\n",
    "    all_groups = 'All income',\n",
    "    folder = pr.vars['figures'],\n",
    "    groups_col = \"Income Group\",\n",
    "    entity_col = \"Country\",\n",
    "    time_col = \"Year\",\n",
    "    figsize = (12, 10),\n",
    "    marker_kwargs = None,\n",
    "    annotation_kwargs = None,\n",
    "    text_x_offset = 0.0025,\n",
    "    adjust_axes_lims_kwargs = None,\n",
    "    significance_plot_kwargs = significance_plot_kwargs,\n",
    "    labels_fontsize = 16,\n",
    "    indep_vars_colors = list(colors.values()),\n",
    "    groups_colors = income_colors,\n",
    "    quantiles = None,\n",
    "    recalculate = True,\n",
    ")"
   ]
  },
  {
   "cell_type": "markdown",
   "metadata": {},
   "source": [
    "***"
   ]
  }
 ],
 "metadata": {
  "kernelspec": {
   "display_name": ".venv",
   "language": "python",
   "name": "python3"
  },
  "language_info": {
   "codemirror_mode": {
    "name": "ipython",
    "version": 3
   },
   "file_extension": ".py",
   "mimetype": "text/x-python",
   "name": "python",
   "nbconvert_exporter": "python",
   "pygments_lexer": "ipython3",
   "version": "3.12.7"
  }
 },
 "nbformat": 4,
 "nbformat_minor": 2
}
